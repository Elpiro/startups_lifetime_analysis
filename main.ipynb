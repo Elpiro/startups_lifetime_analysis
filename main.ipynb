{
 "cells": [
  {
   "cell_type": "markdown",
   "metadata": {},
   "source": [
    "# Data exploration/wrangling\n",
    "\n",
    "Enter the folder path of the data :"
   ]
  },
  {
   "cell_type": "code",
   "execution_count": 47,
   "metadata": {},
   "outputs": [
    {
     "data": {
      "text/html": [
       "'C:/Users/GALLICE/Documents/Perso/Etudes/DSTI/Cours/Survival Analysis/project/Data/crunchbase-october-2013-master/'"
      ],
      "text/latex": [
       "'C:/Users/GALLICE/Documents/Perso/Etudes/DSTI/Cours/Survival Analysis/project/Data/crunchbase-october-2013-master/'"
      ],
      "text/markdown": [
       "'C:/Users/GALLICE/Documents/Perso/Etudes/DSTI/Cours/Survival Analysis/project/Data/crunchbase-october-2013-master/'"
      ],
      "text/plain": [
       "[1] \"C:/Users/GALLICE/Documents/Perso/Etudes/DSTI/Cours/Survival Analysis/project/Data/crunchbase-october-2013-master/\""
      ]
     },
     "metadata": {},
     "output_type": "display_data"
    }
   ],
   "source": [
    "path = \"C:/Users/GALLICE/Documents/Perso/Etudes/DSTI/Cours/Survival Analysis/project/Data/crunchbase-october-2013-master/\"\n",
    "path"
   ]
  },
  {
   "cell_type": "code",
   "execution_count": 48,
   "metadata": {},
   "outputs": [
    {
     "name": "stderr",
     "output_type": "stream",
     "text": [
      "Warning message in eval(expr, envir, enclos):\n",
      "\"NAs introduits lors de la conversion automatique\"Warning message in eval(expr, envir, enclos):\n",
      "\"NAs introduced by coercion to integer range\""
     ]
    },
    {
     "data": {
      "text/plain": [
       "  permalink         company_name           category_code  funding_total_usd  \n",
       " Length:17727       Length:17727       software   :2688   Min.   :2.910e+02  \n",
       " Class :character   Class :character   biotech    :2060   1st Qu.:7.835e+05  \n",
       " Mode  :character   Mode  :character   web        :1662   Median :3.721e+06  \n",
       "                                       mobile     :1135   Mean   :1.625e+07  \n",
       "                                       enterprise :1125   3rd Qu.:1.450e+07  \n",
       "                                       advertising: 739   Max.   :1.654e+09  \n",
       "                                       (Other)    :8318   NA's   :1523       \n",
       "       status      country_code   state_code             region    \n",
       " acquired : 1673   USA:17727    CA     :6658   SF Bay       :4819  \n",
       " closed   :  553                NY     :1837   New York     :1741  \n",
       " ipo      :  344                MA     :1425   Boston       :1367  \n",
       " operating:15157                TX     : 836   Los Angeles  :1126  \n",
       "                                WA     : 668   Seattle      : 613  \n",
       "                                PA     : 466   Washington DC: 570  \n",
       "                                (Other):5837   (Other)      :7491  \n",
       "            city       funding_rounds     founded_at         founded_month     \n",
       " San Francisco: 1691   Min.   : 1.000   Min.   :1906-01-01   Length:17727      \n",
       " New York     : 1384   1st Qu.: 1.000   1st Qu.:2004-01-01   Class :character  \n",
       " Palo Alto    :  426   Median : 1.000   Median :2008-01-01   Mode  :character  \n",
       " Seattle      :  378   Mean   : 1.795   Mean   :2006-04-24                     \n",
       " Mountain View:  364   3rd Qu.: 2.000   3rd Qu.:2010-09-01                     \n",
       " Austin       :  359   Max.   :14.000   Max.   :2013-12-14                     \n",
       " (Other)      :13125                    NA's   :4051                           \n",
       " founded_quarter     founded_year  first_funding_at     last_funding_at     \n",
       " Length:17727       Min.   :1906   Min.   :1960-01-01   Min.   :1960-01-01  \n",
       " Class :character   1st Qu.:2004   1st Qu.:2008-03-27   1st Qu.:2010-01-01  \n",
       " Mode  :character   Median :2008   Median :2011-01-01   Median :2012-01-25  \n",
       "                    Mean   :2006   Mean   :2010-03-21   Mean   :2011-03-20  \n",
       "                    3rd Qu.:2010   3rd Qu.:2012-05-27   3rd Qu.:2013-01-29  \n",
       "                    Max.   :2013   Max.   :2013-10-01   Max.   :2013-10-01  \n",
       "                    NA's   :4051   NA's   :105          NA's   :105         \n",
       " last_milestone_at   \n",
       " Min.   :1960-01-01  \n",
       " 1st Qu.:2010-07-28  \n",
       " Median :2012-01-01  \n",
       " Mean   :2011-02-21  \n",
       " 3rd Qu.:2013-01-11  \n",
       " Max.   :2014-09-17  \n",
       " NA's   :7199        "
      ]
     },
     "metadata": {},
     "output_type": "display_data"
    }
   ],
   "source": [
    "#-------------import of companies.csv---------------#\n",
    "\n",
    "datafile = \"crunchbase-companies.csv\"\n",
    "startups <- read.csv(paste(path,datafile, sep= \"\"), \n",
    "                     sep = ',',\n",
    "                     stringsAsFactors = FALSE)\n",
    "\n",
    "\n",
    "startups$funding_total_usd <- as.integer(startups$funding_total_usd)\n",
    "\n",
    "startups$category_code <- factor(x = startups$category_code, ordered = FALSE)\n",
    "startups$status <- factor(startups$status, ordered = FALSE)\n",
    "startups$country_code <- factor(startups$country_code, ordered = FALSE)\n",
    "startups$state_code <- factor(startups$state_code, ordered = FALSE)\n",
    "startups$region <- factor(startups$region, ordered = FALSE)\n",
    "startups$city <- factor(startups$city, ordered=FALSE)\n",
    "\n",
    "startups$founded_at <- as.Date(startups$founded_at, \"%Y-%m-%d\")\n",
    "startups$first_funding_at <- as.Date(as.character(startups$first_funding_at, format=\"%Y-%m-%d\"))\n",
    "startups$last_funding_at <- as.Date(as.character(startups$last_funding_at, format=\"%Y-%m-%d\"))\n",
    "startups$last_milestone_at <- as.Date(as.character(startups$last_milestone_at, format=\"%Y-%m-%d\"))\n",
    "\n",
    "\n",
    "names(startups)[2] <- \"company_name\"\n",
    "\n",
    "summary(startups)"
   ]
  },
  {
   "cell_type": "markdown",
   "metadata": {},
   "source": [
    "We see that USA is the only country represented\n",
    "\n",
    "The next chunk of code computes the lifetime vector of startups. We use foundation date as the start date, and l"
   ]
  },
  {
   "cell_type": "code",
   "execution_count": 49,
   "metadata": {},
   "outputs": [
    {
     "data": {
      "text/plain": [
       " days_of_existence\n",
       " Min.   :   31    \n",
       " 1st Qu.:  643    \n",
       " Median : 1393    \n",
       " Mean   : 2027    \n",
       " 3rd Qu.: 2646    \n",
       " Max.   :39092    \n",
       " NA's   :5560     "
      ]
     },
     "metadata": {},
     "output_type": "display_data"
    }
   ],
   "source": [
    "start_date <- startups$founded_at\n",
    "\n",
    "startups$last_milestone_at[is.na(startups$last_milestone_at)] <- startups$last_funding_at[is.na(startups$last_milestone_at)]#imputes missing dates in last_milestone_at\n",
    "\n",
    "end_date <- startups$last_milestone_at\n",
    "\n",
    "if(FALSE){\n",
    "end_date <- startups$last_funding_at #or end_date <- startups$last_milestone_at ?\n",
    "                                     #for startups that are acquired, the last_milestone could be better\n",
    "                                     # startups[which(startups$status==\"acquired\"), c(\"last_funding_at\",\"last_milestone_at\")]\n",
    "}\n",
    "\n",
    "days_of_existence <- data.frame(matrix(data = NA,nrow = dim(startups)[1], ncol = 1))\n",
    "\n",
    "for(i in seq(1,dim(startups)[1])){\n",
    "  days_of_existence[i,] <- as.integer(end_date[i]-start_date[i])\n",
    "  if(!is.na(days_of_existence[i,])){\n",
    "    if(days_of_existence[i,] <= 30){\n",
    "      days_of_existence[i,] <- NA\n",
    "    }\n",
    "  }\n",
    "}\n",
    "\n",
    "#create column for lifetime of the startup\n",
    "names(days_of_existence) <- \"days_of_existence\"\n",
    "summary(days_of_existence)\n",
    "startups <- cbind(startups,days_of_existence)\n",
    "\n",
    "startups <- startups[!is.na(days_of_existence),]\n",
    "startups <- startups[!is.na(startups$funding_total_usd),]\n",
    "\n",
    "rm(days_of_existence)"
   ]
  },
  {
   "cell_type": "code",
   "execution_count": 50,
   "metadata": {},
   "outputs": [
    {
     "data": {},
     "metadata": {},
     "output_type": "display_data"
    },
    {
     "data": {
      "image/png": "[encoded data removed]",
      "text/plain": [
       "plot without title"
      ]
     },
     "metadata": {},
     "output_type": "display_data"
    }
   ],
   "source": [
    "library(ggplot2)\n",
    "\n",
    "graph_area_subset <- startups[c(\"days_of_existence\", \"status\", \"funding_total_usd\", \"category_code\")]\n",
    "graph_area_subset <- graph_area_subset[graph_area_subset$days_of_existence<15000,]\n",
    "\n",
    "ggplot(data=graph_area_subset,aes(x=days_of_existence, group=status, fill=status, alpha=0.3)) + geom_density() "
   ]
  },
  {
   "cell_type": "markdown",
   "metadata": {},
   "source": [
    "Graph explanation here"
   ]
  },
  {
   "cell_type": "code",
   "execution_count": 51,
   "metadata": {},
   "outputs": [
    {
     "data": {},
     "metadata": {},
     "output_type": "display_data"
    },
    {
     "data": {
      "image/png": "[encoded data removed]",
      "text/plain": [
       "plot without title"
      ]
     },
     "metadata": {},
     "output_type": "display_data"
    }
   ],
   "source": [
    "ggplot(data=graph_area_subset,aes(x=funding_total_usd, group=status, fill=status, alpha=0.3)) + geom_density() + scale_x_log10()\n",
    "\n",
    "rm(graph_area_subset)"
   ]
  },
  {
   "cell_type": "markdown",
   "metadata": {},
   "source": [
    "Graph explanation here"
   ]
  },
  {
   "cell_type": "code",
   "execution_count": 52,
   "metadata": {},
   "outputs": [
    {
     "data": {
      "text/plain": [
       "\n",
       " acquired    closed       ipo operating \n",
       "     1230       321       218      9562 "
      ]
     },
     "metadata": {},
     "output_type": "display_data"
    }
   ],
   "source": [
    "table(startups$status)"
   ]
  },
  {
   "cell_type": "markdown",
   "metadata": {},
   "source": [
    "Each startup is assigned a status. For the analysis, we'll assume a startup has reached its end when it is either acquired or closed."
   ]
  },
  {
   "cell_type": "code",
   "execution_count": 53,
   "metadata": {
    "collapsed": true
   },
   "outputs": [],
   "source": [
    "#------------Create target column from the status column-----------#\n",
    "\n",
    "target <- data.frame(matrix(data = NA,nrow = dim(startups)[1], ncol = 1))\n",
    "names(target) <- \"target\"\n",
    "\n",
    "for (i in seq(1, dim(startups)[1])){\n",
    "  startup_status <- startups$status[i]\n",
    "  if (startup_status == 'acquired'){\n",
    "    target[i,1] <-  1\n",
    "  }\n",
    "  else if (startup_status == 'ipo'){\n",
    "    target[i,1] <- 0\n",
    "  }\n",
    "  else if (startup_status == 'operating'){\n",
    "    target[i,1] <- 0\n",
    "  }\n",
    "  else if (startup_status == \"closed\"){\n",
    "    target[i,1] <- 1\n",
    "  }\n",
    "}\n",
    "\n",
    "startups <- cbind(startups,target)\n",
    "rm(target)\n",
    "\n",
    "#___________target column created______________#\n"
   ]
  },
  {
   "cell_type": "markdown",
   "metadata": {},
   "source": [
    "The following plot shows the repartition of events among the different categories of startups.\n",
    "First 5 categories (in terms of counts) are : \n",
    "    \n",
    "    - Software\n",
    "    - Biotech\n",
    "    - Web\n",
    "    - Enterprise\n",
    "    - Mobile"
   ]
  },
  {
   "cell_type": "code",
   "execution_count": 54,
   "metadata": {},
   "outputs": [
    {
     "name": "stderr",
     "output_type": "stream",
     "text": [
      "Warning message:\n",
      "\"Ignoring unknown parameters: binwidth, bins, pad\""
     ]
    },
    {
     "data": {},
     "metadata": {},
     "output_type": "display_data"
    },
    {
     "data": {
      "image/png": "[encoded data removed]",
      "text/plain": [
       "plot without title"
      ]
     },
     "metadata": {},
     "output_type": "display_data"
    }
   ],
   "source": [
    "graph_area_subset <- startups[c(\"days_of_existence\", \"target\",\"category_code\")]\n",
    "categories <- graph_area_subset$category_code\n",
    "t_categories <- data.frame(table(categories))\n",
    "t_categories <- t_categories[order(t_categories$Freq, decreasing=T),]\n",
    "graph_area_subset$category_code <- factor(graph_area_subset$category_code, levels=t_categories$categories, ordered=T)\n",
    "graph_area_subset$target <- factor(graph_area_subset$target)\n",
    "\n",
    "ggplot(data=graph_area_subset,aes(x=category_code, group=target, fill=target)) + geom_histogram(stat=\"count\") \n",
    "\n",
    "rm(categories)\n",
    "rm(t_categories)\n",
    "rm(graph_area_subset)"
   ]
  },
  {
   "cell_type": "markdown",
   "metadata": {},
   "source": [
    "It seems that Biotech companies have a lower stopping rate than the other first categories.\n",
    "\n",
    "Now, let's explore the time repartition of data"
   ]
  },
  {
   "cell_type": "code",
   "execution_count": 55,
   "metadata": {},
   "outputs": [
    {
     "data": {
      "image/png": "[encoded data removed]",
      "text/plain": [
       "Plot with title \"repartition of foundations dates\""
      ]
     },
     "metadata": {},
     "output_type": "display_data"
    }
   ],
   "source": [
    "hist(na.omit(startups$founded_at), breaks = 30, main=\"repartition of foundations dates\")"
   ]
  },
  {
   "cell_type": "markdown",
   "metadata": {},
   "source": [
    "Some outliers before 1990 are visible\n",
    "\n",
    "### You can change the lower limit for foundation date here :"
   ]
  },
  {
   "cell_type": "code",
   "execution_count": 56,
   "metadata": {},
   "outputs": [
    {
     "data": {
      "text/html": [
       "'1990-01-01'"
      ],
      "text/latex": [
       "'1990-01-01'"
      ],
      "text/markdown": [
       "'1990-01-01'"
      ],
      "text/plain": [
       "[1] \"1990-01-01\""
      ]
     },
     "metadata": {},
     "output_type": "display_data"
    }
   ],
   "source": [
    "lower_date_limit <- \"1990-01-01\"\n",
    "lower_date_limit #%Y-%m-%d"
   ]
  },
  {
   "cell_type": "markdown",
   "metadata": {},
   "source": [
    "We then proceed to remove the startups founded prior to this date"
   ]
  },
  {
   "cell_type": "code",
   "execution_count": 57,
   "metadata": {
    "collapsed": true,
    "scrolled": false
   },
   "outputs": [],
   "source": [
    "#----------removes the values prior to the lower_date_limit--------------#\n",
    "rows_to_remove <- startups$founded_at < lower_date_limit\n",
    "rows_to_remove[is.na(rows_to_remove)] <- TRUE\n",
    "\n",
    "startups <- startups[!rows_to_remove,]\n",
    "\n",
    "\n",
    "#TODO : impute missing values in funding_total_usd from raised_amount_usd\n",
    "\n",
    "\n",
    "#______________removes the values prior to the lower_date_limit_____________#"
   ]
  },
  {
   "cell_type": "markdown",
   "metadata": {},
   "source": [
    "### You can change the upper limit for the censoring date here, in years :"
   ]
  },
  {
   "cell_type": "code",
   "execution_count": 58,
   "metadata": {},
   "outputs": [
    {
     "data": {
      "text/html": [
       "15"
      ],
      "text/latex": [
       "15"
      ],
      "text/markdown": [
       "15"
      ],
      "text/plain": [
       "[1] 15"
      ]
     },
     "metadata": {},
     "output_type": "display_data"
    }
   ],
   "source": [
    "censoring_years = 15\n",
    "censoring_years"
   ]
  },
  {
   "cell_type": "code",
   "execution_count": 59,
   "metadata": {
    "scrolled": false
   },
   "outputs": [
    {
     "data": {
      "text/html": [
       "5475"
      ],
      "text/latex": [
       "5475"
      ],
      "text/markdown": [
       "5475"
      ],
      "text/plain": [
       "[1] 5475"
      ]
     },
     "metadata": {},
     "output_type": "display_data"
    },
    {
     "name": "stderr",
     "output_type": "stream",
     "text": [
      "`stat_bin()` using `bins = 30`. Pick better value with `binwidth`.\n",
      "`stat_bin()` using `bins = 30`. Pick better value with `binwidth`.\n"
     ]
    },
    {
     "data": {
      "image/png": "[encoded data removed]",
      "text/plain": [
       "plot without title"
      ]
     },
     "metadata": {},
     "output_type": "display_data"
    }
   ],
   "source": [
    "library(gridExtra)\n",
    "\n",
    "\n",
    "censoring_date <- censoring_years*365\n",
    "censoring_date\n",
    "\n",
    "graph_area_subset <- startups[c(\"days_of_existence\", \"target\")]\n",
    "graph_area_subset$target <- factor(graph_area_subset$target)\n",
    "\n",
    "plot1 <- ggplot(data = graph_area_subset[graph_area_subset$days_of_existence,], \n",
    "                aes(x=days_of_existence, group=target, fill=target)) + geom_histogram() + xlab(\"Companies days of existence accross all data\")\n",
    "        \n",
    "plot2 <- ggplot(data = graph_area_subset[graph_area_subset$days_of_existence < censoring_date,],\n",
    "                aes(x=days_of_existence, group=target, fill=target)) + geom_histogram() + xlab(paste(\"startups days of existence for\", censoring_years, \"years\", sep=\" \"))\n",
    "\n",
    "grid.arrange(plot1, plot2, ncol=2)\n",
    "\n",
    "rm(graph_area_subset)"
   ]
  },
  {
   "cell_type": "markdown",
   "metadata": {},
   "source": [
    "We notice that the stopping distribution for 8 years seems to follow a uniform law. Days of existence will not be a significative variable for this duration.\n",
    "\n",
    "we load a second dataset, rounds of funding. It provides additionnal information on the different fundings raised by each startup."
   ]
  },
  {
   "cell_type": "code",
   "execution_count": 60,
   "metadata": {},
   "outputs": [
    {
     "name": "stdout",
     "output_type": "stream",
     "text": [
      "'data.frame':\t31679 obs. of  13 variables:\n",
      " $ company_permalink    : chr  \"/company/n-plusn\" \"/company/waywire\" \"/company/club-domains\" \"/company/pay-mobile-checkout-for-email-and-the-web\" ...\n",
      " $ company_name         : chr  \"#NAME?\" \"#waywire\" \".Club Domains\" \"@Pay - Two-Click Checkout\" ...\n",
      " $ company_category_code: chr  \"software\" \"news\" \"software\" \"mobile\" ...\n",
      " $ company_country_code : chr  \"USA\" \"USA\" \"USA\" \"USA\" ...\n",
      " $ company_state_code   : chr  \"NY\" \"NY\" \"FL\" \"NM\" ...\n",
      " $ company_region       : chr  \"New York\" \"New York\" \"Fort Lauderdale\" \"Albuquerque\" ...\n",
      " $ company_city         : chr  \"New York\" \"New York\" \"Oakland Park\" \"Albuquerque\" ...\n",
      " $ funding_round_type   : Factor w/ 9 levels \"angel\",\"crowdfunding\",..: 1 6 7 6 6 9 7 3 1 9 ...\n",
      " $ funded_at            : chr  \"2012-08-29\" \"2012-06-30\" \"2013-05-31\" \"2012-07-01\" ...\n",
      " $ funded_month         : chr  \"2012-08\" \"2012-06\" \"2013-05\" \"2012-07\" ...\n",
      " $ funded_quarter       : chr  \"2012-Q3\" \"2012-Q2\" \"2013-Q2\" \"2012-Q3\" ...\n",
      " $ funded_year          : int  2012 2012 2013 2012 2008 2009 2011 2013 2013 2013 ...\n",
      " $ raised_amount_usd    : num  600000 1750000 7000000 3500000 16000000 2000000 10000000 17000000 50000 1700000 ...\n"
     ]
    }
   ],
   "source": [
    "#----------handling rounds.csv-----------#\n",
    "library(dplyr)\n",
    "\n",
    "datafile = \"crunchbase-rounds.csv\"\n",
    "\n",
    "rounds <- read.csv(paste(path,datafile, sep= \"\"), \n",
    "                     sep = ',',\n",
    "                     stringsAsFactors = FALSE)\n",
    "\n",
    "#sort rounds dataset by startup name\n",
    "rounds$company_name <- factor(rounds$company_name)\n",
    "rounds <- rounds[order(rounds$company_name),]\n",
    "rounds$company_name <- sapply(rounds$company_name, as.character)\n",
    "\n",
    "rounds$funding_round_type <- factor(rounds$funding_round_type)\n",
    "\n",
    "str(rounds)\n",
    "#_____________done with rounds____________#"
   ]
  },
  {
   "cell_type": "markdown",
   "metadata": {},
   "source": [
    "And we explore rounds.csv :"
   ]
  },
  {
   "cell_type": "code",
   "execution_count": 61,
   "metadata": {},
   "outputs": [
    {
     "data": {
      "text/html": [
       "0.417489501759165"
      ],
      "text/latex": [
       "0.417489501759165"
      ],
      "text/markdown": [
       "0.417489501759165"
      ],
      "text/plain": [
       "[1] 0.4174895"
      ]
     },
     "metadata": {},
     "output_type": "display_data"
    }
   ],
   "source": [
    "table_df <- data.frame(table(rounds$company_name))\n",
    "\n",
    "sum(table_df$Freq > 1)/length(table_df$Freq)"
   ]
  },
  {
   "cell_type": "markdown",
   "metadata": {},
   "source": [
    "41% of rounds are associated to more than 1 company"
   ]
  },
  {
   "cell_type": "code",
   "execution_count": 62,
   "metadata": {},
   "outputs": [
    {
     "data": {
      "image/png": "[encoded data removed]",
      "text/plain": [
       "Plot with title \"repartition of number of rounds\""
      ]
     },
     "metadata": {},
     "output_type": "display_data"
    }
   ],
   "source": [
    "hist(table_df$Freq, freq = F, main=\"repartition of number of rounds\")\n",
    "rm(table_df)"
   ]
  },
  {
   "cell_type": "markdown",
   "metadata": {},
   "source": [
    "# Survival analysis\n",
    "\n",
    "We want to study the impact of the following variables on the survival model :\n",
    "\n",
    " - total_funding_usd\n",
    " - funding_round_type\n",
    " - raised_amount_usd  (Money invested in 1 round)\n",
    " \n",
    "We need to complete each line of the first dataset (companies, named startup in the code) with the corresponding fundings types, the funded amount associated, and their count.\n",
    " "
   ]
  },
  {
   "cell_type": "markdown",
   "metadata": {},
   "source": [
    "We're studying startups that have been founded after this date : "
   ]
  },
  {
   "cell_type": "code",
   "execution_count": 63,
   "metadata": {},
   "outputs": [
    {
     "data": {
      "text/html": [
       "'1990-01-01'"
      ],
      "text/latex": [
       "'1990-01-01'"
      ],
      "text/markdown": [
       "'1990-01-01'"
      ],
      "text/plain": [
       "[1] \"1990-01-01\""
      ]
     },
     "metadata": {},
     "output_type": "display_data"
    }
   ],
   "source": [
    "lower_date_limit"
   ]
  },
  {
   "cell_type": "markdown",
   "metadata": {},
   "source": [
    "And we're using the following limit for censoring (in years) :"
   ]
  },
  {
   "cell_type": "code",
   "execution_count": 64,
   "metadata": {},
   "outputs": [
    {
     "data": {
      "text/html": [
       "15"
      ],
      "text/latex": [
       "15"
      ],
      "text/markdown": [
       "15"
      ],
      "text/plain": [
       "[1] 15"
      ]
     },
     "metadata": {},
     "output_type": "display_data"
    }
   ],
   "source": [
    "censoring_years"
   ]
  },
  {
   "cell_type": "code",
   "execution_count": 65,
   "metadata": {},
   "outputs": [],
   "source": [
    "library(survival)\n",
    "\n",
    "#converting factor funding_rounds from rounds, to columns of count of this factor\n",
    "\n",
    "funding_round_type_surv_shaped <- data.frame(matrix(data = 0, nrow=dim(startups)[1], ncol = 19))\n",
    "col_names_fund_round_type <- levels(rounds$funding_round_type)\n",
    "types_counts <- paste(\"count_\",levels(rounds$funding_round_type), sep=\"\")\n",
    "names(funding_round_type_surv_shaped) <- c(\"company_name\",col_names_fund_round_type, types_counts)\n",
    "\n",
    "for (i in 1:dim(funding_round_type_surv_shaped)[1]){\n",
    "  name <- startups$company_name[i]\n",
    "  funding_round_type_surv_shaped[i,1] <- name\n",
    "  funding_rounds <- as.character(rounds$funding_round_type[which(rounds$company_name == name)])#get all funding rounds type for startup i \n",
    "  if (length(funding_rounds) > 0){\n",
    "    for (j in 1:length(funding_rounds)){\n",
    "      if (is.numeric(rounds$raised_amount_usd[which(rounds$company_name == name)][j])){\n",
    "        #adds value\n",
    "        funding_round_type_surv_shaped[i,funding_rounds[j]] <- rounds$raised_amount_usd[which(rounds$company_name == name)][j]\n",
    "                                                             + funding_round_type_surv_shaped[i,funding_rounds[j]]\n",
    "      }\n",
    "      else{\n",
    "        funding_round_type_surv_shaped[i,funding_rounds[j]] <- NA\n",
    "      }\n",
    "      \n",
    "      #adds count to correponding type\n",
    "      funding_round_type_surv_shaped[i,paste(\"count_\", funding_rounds[j], sep =\"\")] <- 1 + funding_round_type_surv_shaped[i,paste(\"count_\", funding_rounds[j], sep =\"\")]\n",
    "      \n",
    "    }\n",
    "  } \n",
    "}"
   ]
  },
  {
   "cell_type": "markdown",
   "metadata": {},
   "source": [
    "Then, we merge the newly obtained funding_rounds data with a subset of companies data, and we remove rows containing NAs."
   ]
  },
  {
   "cell_type": "code",
   "execution_count": 66,
   "metadata": {},
   "outputs": [
    {
     "name": "stdout",
     "output_type": "stream",
     "text": [
      "'data.frame':\t10726 obs. of  22 variables:\n",
      " $ category_code       : Factor w/ 43 levels \"\",\"advertising\",..: 28 39 39 9 43 3 39 5 39 39 ...\n",
      " $ funding_total_usd   : int  1750000 600000 7000000 750000 2535000 1250000 35000000 3000000 77500 719000 ...\n",
      " $ funding_rounds      : int  1 1 1 2 2 2 1 1 1 4 ...\n",
      " $ angel               : num  0 600000 0 0 15000 750000 0 0 0 500000 ...\n",
      " $ crowdfunding        : num  0 0 0 0 0 0 0 0 0 0 ...\n",
      " $ other               : num  0 0 0 500000 0 0 0 3000000 77500 150000 ...\n",
      " $ post.ipo            : num  0 0 0 0 0 0 0 0 0 0 ...\n",
      " $ private.equity      : num  0 0 0 0 0 0 0 0 0 0 ...\n",
      " $ series.a            : num  1750000 0 0 0 2520000 0 0 0 0 0 ...\n",
      " $ series.b            : num  0e+00 0e+00 7e+06 0e+00 0e+00 0e+00 0e+00 0e+00 0e+00 0e+00 ...\n",
      " $ series.c.           : num  0 0 0 0 0 0 0 0 0 0 ...\n",
      " $ venture             : num  0.0 0.0 0.0 0.0 0.0 5.0e+05 3.5e+07 0.0 0.0 0.0 ...\n",
      " $ count_angel         : num  0 1 0 0 1 1 0 0 0 3 ...\n",
      " $ count_crowdfunding  : num  0 0 0 0 0 0 0 0 0 0 ...\n",
      " $ count_other         : num  0 0 0 2 0 0 0 1 1 1 ...\n",
      " $ count_post.ipo      : num  0 0 0 0 0 0 0 0 0 0 ...\n",
      " $ count_private.equity: num  0 0 0 0 0 0 0 0 0 0 ...\n",
      " $ count_series.a      : num  1 0 0 0 1 0 0 0 0 0 ...\n",
      " $ count_series.b      : num  0 0 1 0 0 0 0 0 0 0 ...\n",
      " $ count_series.c.     : num  0 0 0 0 0 0 0 0 0 0 ...\n",
      " $ count_venture       : num  0 0 0 0 0 1 1 0 0 0 ...\n",
      " $ surv_target         : Surv [1:10726, 1:2]  462+  241+  599+ 4013+ 1099   530  4383+  311+  649+  203+ ...\n",
      "  ..- attr(*, \"dimnames\")=List of 2\n",
      "  .. ..$ : NULL\n",
      "  .. ..$ : chr  \"time\" \"status\"\n",
      "  ..- attr(*, \"type\")= chr \"right\"\n"
     ]
    }
   ],
   "source": [
    "#shaping dataframe for survival analysis\n",
    "\n",
    "\n",
    "censoring_filter <- function(x){\n",
    "  if((x >censoring_date) || (x == 0)){\n",
    "    return(TRUE)\n",
    "  }\n",
    "  else{\n",
    "    return(FALSE)\n",
    "  }\n",
    "}\n",
    "\n",
    "rows_to_remove <- sapply(startups$days_of_existence, censoring_filter )  #applying the censoring filter\n",
    "rows_to_remove[is.na(rows_to_remove)] <- TRUE #also removing rows with NA lifetime\n",
    "\n",
    "temp_startups <- startups[!rows_to_remove,]\n",
    "\n",
    "\n",
    "\n",
    "surv_target <- Surv(time = temp_startups$days_of_existence, event = temp_startups$target)\n",
    "\n",
    "surv_dataframe <- temp_startups[c(\"company_name\",\"category_code\", \"funding_total_usd\", \"funding_rounds\")]\n",
    "surv_dataframe <- left_join(surv_dataframe, funding_round_type_surv_shaped, by=\"company_name\")\n",
    "surv_dataframe <- data.frame(surv_dataframe,surv_target)\n",
    "surv_dataframe <- surv_dataframe[,-1]\n",
    "\n",
    "rm(temp_startups)\n",
    "rm(funding_round_type_surv_shaped)\n",
    "str(surv_dataframe)"
   ]
  },
  {
   "cell_type": "markdown",
   "metadata": {},
   "source": [
    "Now, survival analysis can start :"
   ]
  },
  {
   "cell_type": "code",
   "execution_count": 68,
   "metadata": {},
   "outputs": [
    {
     "data": {
      "image/png": "[encoded data removed]",
      "text/plain": [
       "plot without title"
      ]
     },
     "metadata": {},
     "output_type": "display_data"
    }
   ],
   "source": [
    "#fitting model\n",
    "fit.KM <- survfit(surv_target ~ 1, data=surv_dataframe)\n",
    "plot(fit.KM, xlab=\"days operating\", ylab=\"percentage operating\")"
   ]
  }
 ],
 "metadata": {
  "kernelspec": {
   "display_name": "R",
   "language": "R",
   "name": "ir"
  },
  "language_info": {
   "codemirror_mode": "r",
   "file_extension": ".r",
   "mimetype": "text/x-r-source",
   "name": "R",
   "pygments_lexer": "r",
   "version": "3.4.2"
  }
 },
 "nbformat": 4,
 "nbformat_minor": 2
}
