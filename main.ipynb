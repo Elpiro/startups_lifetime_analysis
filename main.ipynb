{
 "cells": [
  {
   "cell_type": "markdown",
   "metadata": {},
   "source": [
    "# <span style=\"color:blue\">Survival Analysis on startups </span>\n",
    "\n",
    "<b>Authors</b> : Bertrand Gallice & Ben Chen\n",
    "\n",
    "<b>Motivations</b> : After seeing in the course many examples of dataset about living/dying humans, we thought it would be interesting to conduct a survival analysis on entities that are not alive. The question we ask here is : How long can we expect to remain CEO of a startup, before it is either acquired or closed. We use funding data as explanatory variable for the analysis.\n",
    "\n",
    "<b>Data used</b> : We use a snapshot of crunchbase made in 2013. Crunchbase is a database of the startups environment in the US. The database is filled by the users of the platform. This dataset is right censored on a very large time scale, so we will apply transformations to study startups on a smaller time window.\n",
    "The data can be found at : https://github.com/datahoarder/crunchbase-october-2013"
   ]
  },
  {
   "cell_type": "markdown",
   "metadata": {},
   "source": [
    "## <span style=\"color:red\">I. Data exploration/wrangling</span>\n",
    "\n",
    "Enter the folder path of the data :"
   ]
  },
  {
   "cell_type": "code",
   "execution_count": 241,
   "metadata": {},
   "outputs": [
    {
     "data": {
      "text/html": [
       "'C:/Users/GALLICE/Documents/Perso/Etudes/DSTI/Cours/Survival Analysis/project/Data/crunchbase-october-2013-master/'"
      ],
      "text/latex": [
       "'C:/Users/GALLICE/Documents/Perso/Etudes/DSTI/Cours/Survival Analysis/project/Data/crunchbase-october-2013-master/'"
      ],
      "text/markdown": [
       "'C:/Users/GALLICE/Documents/Perso/Etudes/DSTI/Cours/Survival Analysis/project/Data/crunchbase-october-2013-master/'"
      ],
      "text/plain": [
       "[1] \"C:/Users/GALLICE/Documents/Perso/Etudes/DSTI/Cours/Survival Analysis/project/Data/crunchbase-october-2013-master/\""
      ]
     },
     "metadata": {},
     "output_type": "display_data"
    }
   ],
   "source": [
    "path = \"C:/Users/GALLICE/Documents/Perso/Etudes/DSTI/Cours/Survival Analysis/project/Data/crunchbase-october-2013-master/\"\n",
    "path"
   ]
  },
  {
   "cell_type": "code",
   "execution_count": 242,
   "metadata": {},
   "outputs": [
    {
     "name": "stderr",
     "output_type": "stream",
     "text": [
      "Warning message in eval(expr, envir, enclos):\n",
      "\"NAs introduits lors de la conversion automatique\"Warning message in eval(expr, envir, enclos):\n",
      "\"NAs introduced by coercion to integer range\""
     ]
    },
    {
     "data": {
      "text/plain": [
       "  permalink         company_name           category_code  funding_total_usd  \n",
       " Length:17727       Length:17727       software   :2688   Min.   :2.910e+02  \n",
       " Class :character   Class :character   biotech    :2060   1st Qu.:7.835e+05  \n",
       " Mode  :character   Mode  :character   web        :1662   Median :3.721e+06  \n",
       "                                       mobile     :1135   Mean   :1.625e+07  \n",
       "                                       enterprise :1125   3rd Qu.:1.450e+07  \n",
       "                                       advertising: 739   Max.   :1.654e+09  \n",
       "                                       (Other)    :8318   NA's   :1523       \n",
       "       status      country_code   state_code             region    \n",
       " acquired : 1673   USA:17727    CA     :6658   SF Bay       :4819  \n",
       " closed   :  553                NY     :1837   New York     :1741  \n",
       " ipo      :  344                MA     :1425   Boston       :1367  \n",
       " operating:15157                TX     : 836   Los Angeles  :1126  \n",
       "                                WA     : 668   Seattle      : 613  \n",
       "                                PA     : 466   Washington DC: 570  \n",
       "                                (Other):5837   (Other)      :7491  \n",
       "            city       funding_rounds     founded_at         founded_month     \n",
       " San Francisco: 1691   Min.   : 1.000   Min.   :1906-01-01   Length:17727      \n",
       " New York     : 1384   1st Qu.: 1.000   1st Qu.:2004-01-01   Class :character  \n",
       " Palo Alto    :  426   Median : 1.000   Median :2008-01-01   Mode  :character  \n",
       " Seattle      :  378   Mean   : 1.795   Mean   :2006-04-24                     \n",
       " Mountain View:  364   3rd Qu.: 2.000   3rd Qu.:2010-09-01                     \n",
       " Austin       :  359   Max.   :14.000   Max.   :2013-12-14                     \n",
       " (Other)      :13125                    NA's   :4051                           \n",
       " founded_quarter     founded_year  first_funding_at     last_funding_at     \n",
       " Length:17727       Min.   :1906   Min.   :1960-01-01   Min.   :1960-01-01  \n",
       " Class :character   1st Qu.:2004   1st Qu.:2008-03-27   1st Qu.:2010-01-01  \n",
       " Mode  :character   Median :2008   Median :2011-01-01   Median :2012-01-25  \n",
       "                    Mean   :2006   Mean   :2010-03-21   Mean   :2011-03-20  \n",
       "                    3rd Qu.:2010   3rd Qu.:2012-05-27   3rd Qu.:2013-01-29  \n",
       "                    Max.   :2013   Max.   :2013-10-01   Max.   :2013-10-01  \n",
       "                    NA's   :4051   NA's   :105          NA's   :105         \n",
       " last_milestone_at   \n",
       " Min.   :1960-01-01  \n",
       " 1st Qu.:2010-07-28  \n",
       " Median :2012-01-01  \n",
       " Mean   :2011-02-21  \n",
       " 3rd Qu.:2013-01-11  \n",
       " Max.   :2014-09-17  \n",
       " NA's   :7199        "
      ]
     },
     "metadata": {},
     "output_type": "display_data"
    }
   ],
   "source": [
    "#-------------import of companies.csv---------------#\n",
    "\n",
    "datafile = \"crunchbase-companies.csv\"\n",
    "startups <- read.csv(paste(path,datafile, sep= \"\"), \n",
    "                     sep = ',',\n",
    "                     stringsAsFactors = FALSE)\n",
    "\n",
    "startups$funding_total_usd <- as.integer(startups$funding_total_usd)\n",
    "\n",
    "startups$category_code <- factor(x = startups$category_code, ordered = FALSE)\n",
    "startups$status <- factor(startups$status, ordered = FALSE)\n",
    "startups$country_code <- factor(startups$country_code, ordered = FALSE)\n",
    "startups$state_code <- factor(startups$state_code, ordered = FALSE)\n",
    "startups$region <- factor(startups$region, ordered = FALSE)\n",
    "startups$city <- factor(startups$city, ordered=FALSE)\n",
    "\n",
    "startups$founded_at <- as.Date(startups$founded_at, \"%Y-%m-%d\")\n",
    "startups$first_funding_at <- as.Date(as.character(startups$first_funding_at, format=\"%Y-%m-%d\"))\n",
    "startups$last_funding_at <- as.Date(as.character(startups$last_funding_at, format=\"%Y-%m-%d\"))\n",
    "startups$last_milestone_at <- as.Date(as.character(startups$last_milestone_at, format=\"%Y-%m-%d\"))\n",
    "\n",
    "\n",
    "names(startups)[2] <- \"company_name\"\n",
    "\n",
    "summary(startups)"
   ]
  },
  {
   "cell_type": "markdown",
   "metadata": {},
   "source": [
    "Note that USA is the only country represented in this dataset.\n",
    "\n",
    "The next chunk of code computes the lifetime vector of startups. We use the <i>foundation_date</i> variable as the start date, and the <i>last_milestone_at</i> variable to close the interval. Depending on the state of the startup (operating, closed, acquired, IPO), the time will be considered to be censored or not. Operating startup are censored observations."
   ]
  },
  {
   "cell_type": "code",
   "execution_count": 243,
   "metadata": {},
   "outputs": [],
   "source": [
    "start_date <- startups$founded_at\n",
    "\n",
    "startups$last_milestone_at[is.na(startups$last_milestone_at)] <- startups$last_funding_at[is.na(startups$last_milestone_at)]#imputes missing dates in last_milestone_at\n",
    "\n",
    "end_date <- startups$last_milestone_at\n",
    "\n",
    "if(FALSE){\n",
    "end_date <- startups$last_funding_at #or end_date <- startups$last_milestone_at ?\n",
    "                                     #for startups that are acquired, the last_milestone could be better\n",
    "                                     # startups[which(startups$status==\"acquired\"), c(\"last_funding_at\",\"last_milestone_at\")]\n",
    "}\n",
    "\n",
    "days_of_existence <- data.frame(matrix(data = NA,nrow = dim(startups)[1], ncol = 1))\n",
    "\n",
    "for(i in seq(1,dim(startups)[1])){\n",
    "  days_of_existence[i,] <- as.integer(end_date[i]-start_date[i])\n",
    "  if(!is.na(days_of_existence[i,])){\n",
    "    if(days_of_existence[i,] <= 30){\n",
    "      days_of_existence[i,] <- NA\n",
    "    }\n",
    "  }\n",
    "}\n",
    "\n",
    "#create column for lifetime of the startup\n",
    "names(days_of_existence) <- \"days_of_existence\"\n",
    "startups <- cbind(startups,days_of_existence)\n",
    "startups <- startups[!is.na(days_of_existence),]\n",
    "startups <- startups[!is.na(startups$funding_total_usd),]"
   ]
  },
  {
   "cell_type": "markdown",
   "metadata": {},
   "source": [
    "### <span style=\"color:red\">I.1. Plotting the data</span>"
   ]
  },
  {
   "cell_type": "code",
   "execution_count": 244,
   "metadata": {},
   "outputs": [
    {
     "data": {
      "text/plain": [
       " days_of_existence\n",
       " Min.   :   31    \n",
       " 1st Qu.:  643    \n",
       " Median : 1393    \n",
       " Mean   : 2027    \n",
       " 3rd Qu.: 2646    \n",
       " Max.   :39092    \n",
       " NA's   :5560     "
      ]
     },
     "metadata": {},
     "output_type": "display_data"
    },
    {
     "data": {
      "image/png": "[encoded data removed]",
      "text/plain": [
       "plot without title"
      ]
     },
     "metadata": {},
     "output_type": "display_data"
    }
   ],
   "source": [
    "#overview of the lifetime  of the startups in the dataset\n",
    "summary(days_of_existence)\n",
    "boxplot(days_of_existence)\n",
    "rm(days_of_existence)"
   ]
  },
  {
   "cell_type": "markdown",
   "metadata": {},
   "source": [
    "We see in the boxplot that there are a lot of outliers with a lifetime over 6000 years (16 years of existence). This shows that many datapoints that have been added in the dataset are not related to young startups, but rather old companies. For the survival analysis, we will choose a start date accordingly so we don't take old companies into account.\n",
    "\n",
    "We will now visualize the distribution of the startups states."
   ]
  },
  {
   "cell_type": "code",
   "execution_count": 245,
   "metadata": {
    "scrolled": false
   },
   "outputs": [
    {
     "name": "stderr",
     "output_type": "stream",
     "text": [
      "Warning message:\n",
      "\"Removed 90 rows containing non-finite values (stat_bin).\""
     ]
    },
    {
     "data": {},
     "metadata": {},
     "output_type": "display_data"
    },
    {
     "data": {
      "image/png": "[encoded data removed]",
      "text/plain": [
       "plot without title"
      ]
     },
     "metadata": {},
     "output_type": "display_data"
    }
   ],
   "source": [
    "library(ggplot2)\n",
    "\n",
    "graph_area_subset <- startups[c(\"days_of_existence\", \"status\", \"funding_total_usd\", \"category_code\")]\n",
    "graph_area_subset <- graph_area_subset[graph_area_subset$days_of_existence,]\n",
    "\n",
    "ggplot(data=graph_area_subset,aes(x=days_of_existence, group=status, fill=status)) + geom_histogram(binwidth=365) + labs(caption = \"1 bin <==> 1 year \")  "
   ]
  },
  {
   "cell_type": "markdown",
   "metadata": {},
   "source": [
    "As said just before, we notice that there are many outliers, because very ancient companies are in the dataset. For a better visualization of the histogram, we display in the next graph companies with a lifetime smaller or equal to 40 years.\n",
    "\n",
    "Also, the very high number of operating startups compared to the other state could be explained by the lack of update on the database. Since it relies on the users of the database, many startups can have been added to the database and not updated enough after."
   ]
  },
  {
   "cell_type": "code",
   "execution_count": 246,
   "metadata": {},
   "outputs": [
    {
     "data": {},
     "metadata": {},
     "output_type": "display_data"
    },
    {
     "data": {},
     "metadata": {},
     "output_type": "display_data"
    },
    {
     "data": {
      "image/png": "[encoded data removed]",
      "text/plain": [
       "plot without title"
      ]
     },
     "metadata": {},
     "output_type": "display_data"
    },
    {
     "data": {
      "image/png": "[encoded data removed]",
      "text/plain": [
       "plot without title"
      ]
     },
     "metadata": {},
     "output_type": "display_data"
    }
   ],
   "source": [
    "graph_area_subset <- startups[c(\"days_of_existence\", \"status\", \"funding_total_usd\", \"category_code\")]\n",
    "graph_area_subset <- graph_area_subset[graph_area_subset$days_of_existence<14600,]\n",
    "\n",
    "ggplot(data=graph_area_subset,aes(x=days_of_existence, group=status, fill=status)) + geom_histogram(binwidth=365) + labs(caption = \"1 bin <==> 1 year \")  \n",
    "ggplot(data=graph_area_subset,aes(x=days_of_existence, group=status, fill=status, alpha=0.3)) + geom_density()"
   ]
  },
  {
   "cell_type": "markdown",
   "metadata": {},
   "source": [
    "<b>- From the histogram: </b>\n",
    "    We see that there are much more startups operating than in other states in the dataset. For the survival analysis, operating is considered as alive, and acquired or closed or both will be considered as dead. \n",
    "   \n",
    "<b>- From the density plot:</b>\n",
    "    We see that if a startup closes it will be very early in its life. We also see that the startups are being acquired at the same time that the quantity of startups being closed decreases."
   ]
  },
  {
   "cell_type": "code",
   "execution_count": 247,
   "metadata": {},
   "outputs": [
    {
     "data": {
      "text/plain": [
       "\n",
       " acquired    closed       ipo operating \n",
       "     1230       321       218      9562 "
      ]
     },
     "metadata": {},
     "output_type": "display_data"
    }
   ],
   "source": [
    "table(startups$status)"
   ]
  },
  {
   "cell_type": "markdown",
   "metadata": {},
   "source": [
    "Since the number of closed (=dead) startups is very small compared to the number of operating (=alive) startups, we will try 3 different survival models. One model with the closed status as \"deceased state\", another model with closed+acquired, and a last one with only acquired.\n",
    "\n",
    "The following plot are related to the total funding received by each startup, according to their status."
   ]
  },
  {
   "cell_type": "code",
   "execution_count": 248,
   "metadata": {},
   "outputs": [
    {
     "data": {},
     "metadata": {},
     "output_type": "display_data"
    },
    {
     "data": {},
     "metadata": {},
     "output_type": "display_data"
    },
    {
     "data": {
      "image/png": "[encoded data removed]",
      "text/plain": [
       "plot without title"
      ]
     },
     "metadata": {},
     "output_type": "display_data"
    },
    {
     "data": {
      "image/png": "[encoded data removed]",
      "text/plain": [
       "plot without title"
      ]
     },
     "metadata": {},
     "output_type": "display_data"
    }
   ],
   "source": [
    "ggplot(data=graph_area_subset,aes(x=funding_total_usd, group=status, fill=status)) + geom_histogram(position='dodge', binwidth=1) + scale_x_log10()\n",
    "ggplot(data=graph_area_subset,aes(x=funding_total_usd, group=status, fill=status, alpha=0.3)) + geom_density() + scale_x_log10()\n",
    "rm(graph_area_subset)"
   ]
  },
  {
   "cell_type": "markdown",
   "metadata": {},
   "source": [
    "The density plot shows a hierarchy in the statuses related to the money received. Closed received on average less money than acquired who received on average less money than IPO. \n",
    "\n",
    "What can be interesting is that operating startups fundings follow a distribution that looks like a mix of the other statuses. This similarity may lead to problems when fitting the survival model."
   ]
  },
  {
   "cell_type": "markdown",
   "metadata": {},
   "source": [
    "### <span style=\"color:red\">I.2. Filtering the dataset with a starting time point, and a limit for right censoring</span>"
   ]
  },
  {
   "cell_type": "code",
   "execution_count": 249,
   "metadata": {
    "collapsed": true
   },
   "outputs": [],
   "source": [
    "#------------Create target column from the status column-----------#\n",
    "\n",
    "target <- data.frame(matrix(data = NA,nrow = dim(startups)[1], ncol = 1))\n",
    "names(target) <- \"target\"\n",
    "\n",
    "for (i in seq(1, dim(startups)[1])){\n",
    "  startup_status <- startups$status[i]\n",
    "  if (startup_status == 'acquired'){\n",
    "    target[i,1] <- 1\n",
    "  }\n",
    "  else if (startup_status == 'ipo'){\n",
    "    target[i,1] <- 0\n",
    "  }\n",
    "  else if (startup_status == 'operating'){\n",
    "    target[i,1] <- 0\n",
    "  }\n",
    "  else if (startup_status == \"closed\"){\n",
    "    target[i,1] <- 1\n",
    "  }\n",
    "}\n",
    "\n",
    "startups <- cbind(startups,target)\n",
    "rm(target)\n",
    "\n",
    "#___________target column created______________#\n"
   ]
  },
  {
   "cell_type": "markdown",
   "metadata": {},
   "source": [
    "This target column considers acquired & closed as the deceased status. We use both statuses here to make the plotting more clear, and we'll use this later to create a Surv object with the combination of acquired and closed as the target value."
   ]
  },
  {
   "cell_type": "code",
   "execution_count": 250,
   "metadata": {
    "scrolled": false
   },
   "outputs": [
    {
     "data": {
      "image/png": "[encoded data removed]",
      "text/plain": [
       "Plot with title \"repartition of foundations dates\""
      ]
     },
     "metadata": {},
     "output_type": "display_data"
    }
   ],
   "source": [
    "hist(na.omit(startups$founded_at), breaks = 30, main=\"repartition of foundations dates\")"
   ]
  },
  {
   "cell_type": "markdown",
   "metadata": {},
   "source": [
    "Some outliers before 1990 are visible\n",
    "\n",
    "#### <span style=\"color:green\">You can change the lower limit for foundation date here :</span>"
   ]
  },
  {
   "cell_type": "code",
   "execution_count": 251,
   "metadata": {},
   "outputs": [
    {
     "data": {
      "text/html": [
       "'2002-01-01'"
      ],
      "text/latex": [
       "'2002-01-01'"
      ],
      "text/markdown": [
       "'2002-01-01'"
      ],
      "text/plain": [
       "[1] \"2002-01-01\""
      ]
     },
     "metadata": {},
     "output_type": "display_data"
    }
   ],
   "source": [
    "lower_date_limit <- \"2002-01-01\"\n",
    "lower_date_limit #%Y-%m-%d"
   ]
  },
  {
   "cell_type": "markdown",
   "metadata": {},
   "source": [
    "We then proceed to remove the startups founded prior to this date"
   ]
  },
  {
   "cell_type": "code",
   "execution_count": 252,
   "metadata": {
    "collapsed": true,
    "scrolled": false
   },
   "outputs": [],
   "source": [
    "#----------removes the values prior to the lower_date_limit--------------#\n",
    "rows_to_remove <- startups$founded_at < lower_date_limit\n",
    "rows_to_remove[is.na(rows_to_remove)] <- TRUE\n",
    "\n",
    "startups <- startups[!rows_to_remove,]\n",
    "\n",
    "\n",
    "#TODO : impute missing values in funding_total_usd from raised_amount_usd\n",
    "\n",
    "\n",
    "#______________removes the values prior to the lower_date_limit_____________#"
   ]
  },
  {
   "cell_type": "markdown",
   "metadata": {},
   "source": [
    "#### <span style=\"color:green\">You can change the upper limit for the censoring date here, in years :</span>"
   ]
  },
  {
   "cell_type": "code",
   "execution_count": 253,
   "metadata": {},
   "outputs": [
    {
     "data": {
      "text/html": [
       "10"
      ],
      "text/latex": [
       "10"
      ],
      "text/markdown": [
       "10"
      ],
      "text/plain": [
       "[1] 10"
      ]
     },
     "metadata": {},
     "output_type": "display_data"
    }
   ],
   "source": [
    "censoring_years = 10\n",
    "censoring_years"
   ]
  },
  {
   "cell_type": "markdown",
   "metadata": {},
   "source": [
    "### <span style=\"color:red\">I.3. Exploring the target repartition among categories</span>"
   ]
  },
  {
   "cell_type": "code",
   "execution_count": 254,
   "metadata": {
    "collapsed": true
   },
   "outputs": [],
   "source": [
    "startups <- startups[(startups$founded_at > lower_date_limit & startups$days_of_existence <= censoring_years*365),]"
   ]
  },
  {
   "cell_type": "markdown",
   "metadata": {},
   "source": [
    "The following plot shows the repartition of events among the different categories of startups.\n",
    "First 5 categories (in terms of counts) are : \n",
    "    \n",
    "    - Software\n",
    "    - Biotech\n",
    "    - Web\n",
    "    - Enterprise\n",
    "    - Mobile"
   ]
  },
  {
   "cell_type": "code",
   "execution_count": 255,
   "metadata": {
    "scrolled": false
   },
   "outputs": [
    {
     "name": "stderr",
     "output_type": "stream",
     "text": [
      "Warning message:\n",
      "\"Ignoring unknown parameters: binwidth, bins, pad\""
     ]
    },
    {
     "data": {},
     "metadata": {},
     "output_type": "display_data"
    },
    {
     "data": {
      "image/png": "[encoded data removed]",
      "text/plain": [
       "plot without title"
      ]
     },
     "metadata": {},
     "output_type": "display_data"
    }
   ],
   "source": [
    "graph_area_subset <- startups[,c(\"days_of_existence\", \"target\",\"category_code\")]\n",
    "categories <- graph_area_subset$category_code\n",
    "t_categories <- data.frame(table(categories))\n",
    "t_categories <- t_categories[order(t_categories$Freq, decreasing=T),]\n",
    "graph_area_subset$category_code <- factor(graph_area_subset$category_code, levels=t_categories$categories, ordered=T)\n",
    "\n",
    "#taking opportunity to order the factor vector of startups:\n",
    "startups$category_code <- factor(startups$category_code, levels = t_categories$categories, ordered=T)\n",
    "\n",
    "graph_area_subset$target <- factor(graph_area_subset$target)\n",
    "\n",
    "ggplot(data=graph_area_subset,aes(x=category_code, group=target, fill=target)) + geom_histogram(stat=\"count\") \n",
    "\n",
    "rm(categories)\n",
    "rm(t_categories)\n",
    "rm(graph_area_subset)"
   ]
  },
  {
   "cell_type": "code",
   "execution_count": 256,
   "metadata": {
    "scrolled": false
   },
   "outputs": [
    {
     "data": {
      "text/html": [
       "<table>\n",
       "<thead><tr><th scope=col>category</th><th scope=col>survival_rate</th><th scope=col>observations</th></tr></thead>\n",
       "<tbody>\n",
       "\t<tr><td>software        </td><td>0.8790952       </td><td>1282            </td></tr>\n",
       "\t<tr><td>web             </td><td>0.7666303       </td><td> 917            </td></tr>\n",
       "\t<tr><td>biotech         </td><td>0.9532828       </td><td> 792            </td></tr>\n",
       "\t<tr><td>enterprise      </td><td>0.8675595       </td><td> 672            </td></tr>\n",
       "\t<tr><td>mobile          </td><td>0.8694969       </td><td> 636            </td></tr>\n",
       "\t<tr><td>advertising     </td><td>0.8391753       </td><td> 485            </td></tr>\n",
       "\t<tr><td>games_video     </td><td>0.8303342       </td><td> 389            </td></tr>\n",
       "\t<tr><td>ecommerce       </td><td>0.8746439       </td><td> 351            </td></tr>\n",
       "\t<tr><td>cleantech       </td><td>0.9178571       </td><td> 280            </td></tr>\n",
       "\t<tr><td>analytics       </td><td>0.9068100       </td><td> 279            </td></tr>\n",
       "\t<tr><td>hardware        </td><td>0.9377289       </td><td> 273            </td></tr>\n",
       "\t<tr><td>medical         </td><td>0.9471154       </td><td> 208            </td></tr>\n",
       "\t<tr><td>health          </td><td>0.9806763       </td><td> 207            </td></tr>\n",
       "\t<tr><td>social          </td><td>0.8724490       </td><td> 196            </td></tr>\n",
       "\t<tr><td>finance         </td><td>0.9156627       </td><td> 166            </td></tr>\n",
       "\t<tr><td>education       </td><td>0.9515152       </td><td> 165            </td></tr>\n",
       "\t<tr><td>network_hosting </td><td>0.8074074       </td><td> 135            </td></tr>\n",
       "\t<tr><td>security        </td><td>0.8376068       </td><td> 117            </td></tr>\n",
       "\t<tr><td>semiconductor   </td><td>0.8529412       </td><td> 102            </td></tr>\n",
       "\t<tr><td>search          </td><td>0.7821782       </td><td> 101            </td></tr>\n",
       "\t<tr><td>other           </td><td>0.8787879       </td><td>  99            </td></tr>\n",
       "\t<tr><td>messaging       </td><td>0.7816092       </td><td>  87            </td></tr>\n",
       "\t<tr><td>                </td><td>0.9285714       </td><td>  84            </td></tr>\n",
       "\t<tr><td>hospitality     </td><td>0.9714286       </td><td>  70            </td></tr>\n",
       "\t<tr><td>news            </td><td>0.8656716       </td><td>  67            </td></tr>\n",
       "\t<tr><td>manufacturing   </td><td>0.9696970       </td><td>  66            </td></tr>\n",
       "\t<tr><td>public_relations</td><td>0.7868852       </td><td>  61            </td></tr>\n",
       "\t<tr><td>travel          </td><td>0.8103448       </td><td>  58            </td></tr>\n",
       "\t<tr><td>fashion         </td><td>0.8596491       </td><td>  57            </td></tr>\n",
       "\t<tr><td>music           </td><td>0.8571429       </td><td>  56            </td></tr>\n",
       "\t<tr><td>photo_video     </td><td>0.8867925       </td><td>  53            </td></tr>\n",
       "\t<tr><td>real_estate     </td><td>0.9111111       </td><td>  45            </td></tr>\n",
       "\t<tr><td>sports          </td><td>0.9772727       </td><td>  44            </td></tr>\n",
       "\t<tr><td>consulting      </td><td>0.9285714       </td><td>  42            </td></tr>\n",
       "\t<tr><td>nonprofit       </td><td>1.0000000       </td><td>  35            </td></tr>\n",
       "\t<tr><td>automotive      </td><td>0.8518519       </td><td>  27            </td></tr>\n",
       "\t<tr><td>transportation  </td><td>0.9090909       </td><td>  22            </td></tr>\n",
       "\t<tr><td>legal           </td><td>0.9285714       </td><td>  14            </td></tr>\n",
       "\t<tr><td>nanotech        </td><td>1.0000000       </td><td>  13            </td></tr>\n",
       "\t<tr><td>local           </td><td>1.0000000       </td><td>   9            </td></tr>\n",
       "\t<tr><td>design          </td><td>0.8750000       </td><td>   8            </td></tr>\n",
       "\t<tr><td>pets            </td><td>1.0000000       </td><td>   6            </td></tr>\n",
       "</tbody>\n",
       "</table>\n"
      ],
      "text/latex": [
       "\\begin{tabular}{r|lll}\n",
       " category & survival\\_rate & observations\\\\\n",
       "\\hline\n",
       "\t software         & 0.8790952        & 1282            \\\\\n",
       "\t web              & 0.7666303        &  917            \\\\\n",
       "\t biotech          & 0.9532828        &  792            \\\\\n",
       "\t enterprise       & 0.8675595        &  672            \\\\\n",
       "\t mobile           & 0.8694969        &  636            \\\\\n",
       "\t advertising      & 0.8391753        &  485            \\\\\n",
       "\t games\\_video      & 0.8303342          &  389              \\\\\n",
       "\t ecommerce        & 0.8746439        &  351            \\\\\n",
       "\t cleantech        & 0.9178571        &  280            \\\\\n",
       "\t analytics        & 0.9068100        &  279            \\\\\n",
       "\t hardware         & 0.9377289        &  273            \\\\\n",
       "\t medical          & 0.9471154        &  208            \\\\\n",
       "\t health           & 0.9806763        &  207            \\\\\n",
       "\t social           & 0.8724490        &  196            \\\\\n",
       "\t finance          & 0.9156627        &  166            \\\\\n",
       "\t education        & 0.9515152        &  165            \\\\\n",
       "\t network\\_hosting  & 0.8074074          &  135              \\\\\n",
       "\t security         & 0.8376068        &  117            \\\\\n",
       "\t semiconductor    & 0.8529412        &  102            \\\\\n",
       "\t search           & 0.7821782        &  101            \\\\\n",
       "\t other            & 0.8787879        &   99            \\\\\n",
       "\t messaging        & 0.7816092        &   87            \\\\\n",
       "\t                  & 0.9285714        &   84            \\\\\n",
       "\t hospitality      & 0.9714286        &   70            \\\\\n",
       "\t news             & 0.8656716        &   67            \\\\\n",
       "\t manufacturing    & 0.9696970        &   66            \\\\\n",
       "\t public\\_relations & 0.7868852          &   61              \\\\\n",
       "\t travel           & 0.8103448        &   58            \\\\\n",
       "\t fashion          & 0.8596491        &   57            \\\\\n",
       "\t music            & 0.8571429        &   56            \\\\\n",
       "\t photo\\_video      & 0.8867925          &   53              \\\\\n",
       "\t real\\_estate      & 0.9111111          &   45              \\\\\n",
       "\t sports           & 0.9772727        &   44            \\\\\n",
       "\t consulting       & 0.9285714        &   42            \\\\\n",
       "\t nonprofit        & 1.0000000        &   35            \\\\\n",
       "\t automotive       & 0.8518519        &   27            \\\\\n",
       "\t transportation   & 0.9090909        &   22            \\\\\n",
       "\t legal            & 0.9285714        &   14            \\\\\n",
       "\t nanotech         & 1.0000000        &   13            \\\\\n",
       "\t local            & 1.0000000        &    9            \\\\\n",
       "\t design           & 0.8750000        &    8            \\\\\n",
       "\t pets             & 1.0000000        &    6            \\\\\n",
       "\\end{tabular}\n"
      ],
      "text/markdown": [
       "\n",
       "category | survival_rate | observations | \n",
       "|---|---|---|---|---|---|---|---|---|---|---|---|---|---|---|---|---|---|---|---|---|---|---|---|---|---|---|---|---|---|---|---|---|---|---|---|---|---|---|---|---|---|\n",
       "| software         | 0.8790952        | 1282             | \n",
       "| web              | 0.7666303        |  917             | \n",
       "| biotech          | 0.9532828        |  792             | \n",
       "| enterprise       | 0.8675595        |  672             | \n",
       "| mobile           | 0.8694969        |  636             | \n",
       "| advertising      | 0.8391753        |  485             | \n",
       "| games_video      | 0.8303342        |  389             | \n",
       "| ecommerce        | 0.8746439        |  351             | \n",
       "| cleantech        | 0.9178571        |  280             | \n",
       "| analytics        | 0.9068100        |  279             | \n",
       "| hardware         | 0.9377289        |  273             | \n",
       "| medical          | 0.9471154        |  208             | \n",
       "| health           | 0.9806763        |  207             | \n",
       "| social           | 0.8724490        |  196             | \n",
       "| finance          | 0.9156627        |  166             | \n",
       "| education        | 0.9515152        |  165             | \n",
       "| network_hosting  | 0.8074074        |  135             | \n",
       "| security         | 0.8376068        |  117             | \n",
       "| semiconductor    | 0.8529412        |  102             | \n",
       "| search           | 0.7821782        |  101             | \n",
       "| other            | 0.8787879        |   99             | \n",
       "| messaging        | 0.7816092        |   87             | \n",
       "|                  | 0.9285714        |   84             | \n",
       "| hospitality      | 0.9714286        |   70             | \n",
       "| news             | 0.8656716        |   67             | \n",
       "| manufacturing    | 0.9696970        |   66             | \n",
       "| public_relations | 0.7868852        |   61             | \n",
       "| travel           | 0.8103448        |   58             | \n",
       "| fashion          | 0.8596491        |   57             | \n",
       "| music            | 0.8571429        |   56             | \n",
       "| photo_video      | 0.8867925        |   53             | \n",
       "| real_estate      | 0.9111111        |   45             | \n",
       "| sports           | 0.9772727        |   44             | \n",
       "| consulting       | 0.9285714        |   42             | \n",
       "| nonprofit        | 1.0000000        |   35             | \n",
       "| automotive       | 0.8518519        |   27             | \n",
       "| transportation   | 0.9090909        |   22             | \n",
       "| legal            | 0.9285714        |   14             | \n",
       "| nanotech         | 1.0000000        |   13             | \n",
       "| local            | 1.0000000        |    9             | \n",
       "| design           | 0.8750000        |    8             | \n",
       "| pets             | 1.0000000        |    6             | \n",
       "\n",
       "\n"
      ],
      "text/plain": [
       "   category         survival_rate observations\n",
       "1  software         0.8790952     1282        \n",
       "2  web              0.7666303      917        \n",
       "3  biotech          0.9532828      792        \n",
       "4  enterprise       0.8675595      672        \n",
       "5  mobile           0.8694969      636        \n",
       "6  advertising      0.8391753      485        \n",
       "7  games_video      0.8303342      389        \n",
       "8  ecommerce        0.8746439      351        \n",
       "9  cleantech        0.9178571      280        \n",
       "10 analytics        0.9068100      279        \n",
       "11 hardware         0.9377289      273        \n",
       "12 medical          0.9471154      208        \n",
       "13 health           0.9806763      207        \n",
       "14 social           0.8724490      196        \n",
       "15 finance          0.9156627      166        \n",
       "16 education        0.9515152      165        \n",
       "17 network_hosting  0.8074074      135        \n",
       "18 security         0.8376068      117        \n",
       "19 semiconductor    0.8529412      102        \n",
       "20 search           0.7821782      101        \n",
       "21 other            0.8787879       99        \n",
       "22 messaging        0.7816092       87        \n",
       "23                  0.9285714       84        \n",
       "24 hospitality      0.9714286       70        \n",
       "25 news             0.8656716       67        \n",
       "26 manufacturing    0.9696970       66        \n",
       "27 public_relations 0.7868852       61        \n",
       "28 travel           0.8103448       58        \n",
       "29 fashion          0.8596491       57        \n",
       "30 music            0.8571429       56        \n",
       "31 photo_video      0.8867925       53        \n",
       "32 real_estate      0.9111111       45        \n",
       "33 sports           0.9772727       44        \n",
       "34 consulting       0.9285714       42        \n",
       "35 nonprofit        1.0000000       35        \n",
       "36 automotive       0.8518519       27        \n",
       "37 transportation   0.9090909       22        \n",
       "38 legal            0.9285714       14        \n",
       "39 nanotech         1.0000000       13        \n",
       "40 local            1.0000000        9        \n",
       "41 design           0.8750000        8        \n",
       "42 pets             1.0000000        6        "
      ]
     },
     "metadata": {},
     "output_type": "display_data"
    }
   ],
   "source": [
    "category_counts <- data.frame(table(startups$category_code))\n",
    "\n",
    "survival_rate <- matrix(data=NA, ncol = 3, nrow = 42)\n",
    "survival_rate <- data.frame(survival_rate)\n",
    "names(survival_rate) <- c(\"category\", \"survival_rate\", \"observations\")\n",
    "\n",
    "for (i in 1:42){\n",
    "    variable <- sum(startups$target[startups$category_code == levels(startups$category_code)[i]])\n",
    "    variable <- variable/category_counts[i,2]\n",
    "    variable <- 1 - variable\n",
    "    survival_rate[i,1] <- levels(startups$category_code)[i]\n",
    "    survival_rate[i,2] <- variable\n",
    "    survival_rate[i,3] <- category_counts[i,2]\n",
    "}\n",
    "\n",
    "survival_rate[order(survival_rate$observations, decreasing=T),]"
   ]
  },
  {
   "cell_type": "markdown",
   "metadata": {},
   "source": [
    "In the first categories in terms of number of observations, biotech startups have the best survival rate, and web startups have the worst. "
   ]
  },
  {
   "cell_type": "markdown",
   "metadata": {},
   "source": [
    "### <span style=\"color:red\">I.4. Handling the fundings dataset</span>\n",
    "\n",
    "We load a second dataset, <i>rounds of funding</i>. It provides additionnal information on the different fundings raised by each startup."
   ]
  },
  {
   "cell_type": "code",
   "execution_count": 257,
   "metadata": {},
   "outputs": [
    {
     "name": "stdout",
     "output_type": "stream",
     "text": [
      "'data.frame':\t31679 obs. of  13 variables:\n",
      " $ company_permalink    : chr  \"/company/n-plusn\" \"/company/waywire\" \"/company/club-domains\" \"/company/pay-mobile-checkout-for-email-and-the-web\" ...\n",
      " $ company_name         : chr  \"#NAME?\" \"#waywire\" \".Club Domains\" \"@Pay - Two-Click Checkout\" ...\n",
      " $ company_category_code: chr  \"software\" \"news\" \"software\" \"mobile\" ...\n",
      " $ company_country_code : chr  \"USA\" \"USA\" \"USA\" \"USA\" ...\n",
      " $ company_state_code   : chr  \"NY\" \"NY\" \"FL\" \"NM\" ...\n",
      " $ company_region       : chr  \"New York\" \"New York\" \"Fort Lauderdale\" \"Albuquerque\" ...\n",
      " $ company_city         : chr  \"New York\" \"New York\" \"Oakland Park\" \"Albuquerque\" ...\n",
      " $ funding_round_type   : Factor w/ 9 levels \"angel\",\"crowdfunding\",..: 1 6 7 6 6 9 7 3 1 9 ...\n",
      " $ funded_at            : Date, format: \"2012-08-29\" \"2012-06-30\" ...\n",
      " $ funded_month         : chr  \"2012-08\" \"2012-06\" \"2013-05\" \"2012-07\" ...\n",
      " $ funded_quarter       : chr  \"2012-Q3\" \"2012-Q2\" \"2013-Q2\" \"2012-Q3\" ...\n",
      " $ funded_year          : int  2012 2012 2013 2012 2008 2009 2011 2013 2013 2013 ...\n",
      " $ raised_amount_usd    : num  600000 1750000 7000000 3500000 16000000 2000000 10000000 17000000 50000 1700000 ...\n"
     ]
    }
   ],
   "source": [
    "library(dplyr)\n",
    "\n",
    "datafile = \"crunchbase-rounds.csv\"\n",
    "\n",
    "rounds <- read.csv(paste(path,datafile, sep= \"\"), \n",
    "                     sep = ',',\n",
    "                     stringsAsFactors = FALSE)\n",
    "\n",
    "#sort rounds dataset by startup name\n",
    "rounds$company_name <- factor(rounds$company_name)\n",
    "rounds <- rounds[order(rounds$company_name),]\n",
    "rounds$company_name <- sapply(rounds$company_name, as.character)\n",
    "\n",
    "rounds$funding_round_type <- factor(rounds$funding_round_type)\n",
    "\n",
    "rounds$funded_at <- as.Date(rounds$funded_at, \"%Y-%m-%d\")\n",
    "\n",
    "str(rounds)"
   ]
  },
  {
   "cell_type": "markdown",
   "metadata": {},
   "source": [
    "And we explore rounds.csv :"
   ]
  },
  {
   "cell_type": "code",
   "execution_count": 258,
   "metadata": {},
   "outputs": [
    {
     "data": {
      "text/html": [
       "0.417489501759165"
      ],
      "text/latex": [
       "0.417489501759165"
      ],
      "text/markdown": [
       "0.417489501759165"
      ],
      "text/plain": [
       "[1] 0.4174895"
      ]
     },
     "metadata": {},
     "output_type": "display_data"
    }
   ],
   "source": [
    "table_df <- data.frame(table(rounds$company_name))\n",
    "\n",
    "sum(table_df$Freq > 1)/length(table_df$Freq)"
   ]
  },
  {
   "cell_type": "markdown",
   "metadata": {},
   "source": [
    "41% of observations are associated to more than 1 company. This will require some pre-processing on the data before merging it to the original dataset."
   ]
  },
  {
   "cell_type": "code",
   "execution_count": 259,
   "metadata": {},
   "outputs": [
    {
     "data": {
      "image/png": "[encoded data removed]",
      "text/plain": [
       "Plot with title \"repartition of number of rounds\""
      ]
     },
     "metadata": {},
     "output_type": "display_data"
    }
   ],
   "source": [
    "hist(table_df$Freq, freq = F, main=\"repartition of number of rounds\")\n",
    "rm(table_df)"
   ]
  },
  {
   "cell_type": "markdown",
   "metadata": {},
   "source": [
    "## <span style=\"color:red\">II. Survival analysis</span>\n",
    "\n",
    "We want to study the impact of the following variables on the survival model :\n",
    "\n",
    " - total_funding_usd\n",
    " - funding_round_type\n",
    " - raised_amount_usd  (Money invested in 1 round)\n",
    " \n",
    "We need to complete each line of the first dataset (companies, named startup in the code) with the corresponding fundings types, the funded amount associated, and their count.\n",
    " "
   ]
  },
  {
   "cell_type": "markdown",
   "metadata": {},
   "source": [
    "We're studying startups that have been founded after this date : "
   ]
  },
  {
   "cell_type": "code",
   "execution_count": 260,
   "metadata": {},
   "outputs": [
    {
     "data": {
      "text/html": [
       "'2002-01-01'"
      ],
      "text/latex": [
       "'2002-01-01'"
      ],
      "text/markdown": [
       "'2002-01-01'"
      ],
      "text/plain": [
       "[1] \"2002-01-01\""
      ]
     },
     "metadata": {},
     "output_type": "display_data"
    }
   ],
   "source": [
    "lower_date_limit"
   ]
  },
  {
   "cell_type": "markdown",
   "metadata": {},
   "source": [
    "And we're using the following limit for censoring (in years) :"
   ]
  },
  {
   "cell_type": "code",
   "execution_count": 261,
   "metadata": {},
   "outputs": [
    {
     "data": {
      "text/html": [
       "10"
      ],
      "text/latex": [
       "10"
      ],
      "text/markdown": [
       "10"
      ],
      "text/plain": [
       "[1] 10"
      ]
     },
     "metadata": {},
     "output_type": "display_data"
    }
   ],
   "source": [
    "censoring_years\n",
    "censoring_date <- censoring_years*365"
   ]
  },
  {
   "cell_type": "code",
   "execution_count": 262,
   "metadata": {
    "collapsed": true
   },
   "outputs": [],
   "source": [
    "library(survival)\n",
    "\n",
    "#converting factor funding_rounds from rounds, to columns of count of this factor\n",
    "funding_round_type_surv_shaped <- data.frame(matrix(data = 0, nrow=dim(startups)[1], ncol = 28))\n",
    "col_names_fund_round_type <- levels(rounds$funding_round_type)\n",
    "types_counts <- paste(\"count_\",levels(rounds$funding_round_type), sep=\"\")\n",
    "time_fund <- paste(\"time_\",levels(rounds$funding_round_type), sep=\"\")\n",
    "names(funding_round_type_surv_shaped) <- c(\"company_name\",col_names_fund_round_type, types_counts, time_fund)\n",
    "\n",
    "for (i in 1:dim(funding_round_type_surv_shaped)[1]){\n",
    "  name <- startups$company_name[i]\n",
    "  funding_round_type_surv_shaped[i,1] <- name\n",
    "  \n",
    "  company_details <- which(rounds$company_name == name)\n",
    "  funding_rounds <- as.character(rounds$funding_round_type[company_details])#get all funding rounds type for startup i \n",
    "  if (length(funding_rounds) > 0){\n",
    "    for (j in 1:length(funding_rounds)){\n",
    "      if (is.numeric(rounds$raised_amount_usd[company_details][j])){\n",
    "        \n",
    "        #adds the amount invested\n",
    "        funding_round_type_surv_shaped[i,funding_rounds[j]] <- rounds$raised_amount_usd[company_details][j]\n",
    "        + funding_round_type_surv_shaped[i,funding_rounds[j]]\n",
    "        \n",
    "      }\n",
    "      else{\n",
    "        \n",
    "        funding_round_type_surv_shaped[i,funding_rounds[j]] <- NA\n",
    "      \n",
    "        }\n",
    "      \n",
    "      #adds count to correponding type\n",
    "      funding_round_type_surv_shaped[i,paste(\"count_\", funding_rounds[j], sep =\"\")] <- 1 + funding_round_type_surv_shaped[i,paste(\"count_\", funding_rounds[j], sep =\"\")]\n",
    "      \n",
    "      funded_after_x_days <- rounds$funded_at[company_details][j] - startups$founded_at[i]\n",
    "      if (funding_round_type_surv_shaped[i,paste(\"time_\", funding_rounds[j], sep =\"\")] == 0 ){\n",
    "        funding_round_type_surv_shaped[i,paste(\"time_\", funding_rounds[j], sep =\"\")] <- funded_after_x_days #Keeping the 1st fund date for the duplicates of one type of investment\n",
    "      }\n",
    "    }\n",
    "  } \n",
    "}"
   ]
  },
  {
   "cell_type": "markdown",
   "metadata": {},
   "source": [
    "Then, we merge the newly obtained funding_rounds data with a subset of companies data, and we remove rows containing NAs."
   ]
  },
  {
   "cell_type": "code",
   "execution_count": 263,
   "metadata": {},
   "outputs": [
    {
     "name": "stdout",
     "output_type": "stream",
     "text": [
      "'data.frame':\t8778 obs. of  36 variables:\n",
      " $ category_code       : Ord.factor w/ 43 levels \"software\"<\"web\"<..: 25 1 1 2 10 3 1 1 26 6 ...\n",
      " $ funding_total_usd   : int  1750000 600000 7000000 2535000 1250000 3000000 77500 719000 48950000 5500000 ...\n",
      " $ funding_rounds      : int  1 1 1 2 2 1 1 4 6 2 ...\n",
      " $ state_code          : Factor w/ 52 levels \"\",\"AK\",\"AL\",\"AR\",..: 36 36 11 6 6 6 21 41 21 6 ...\n",
      " $ target_acquired     : num  0 0 0 1 1 0 0 0 0 0 ...\n",
      " $ target_closed       : num  0 0 0 0 0 0 0 0 0 0 ...\n",
      " $ angel               : num  0 600000 0 15000 750000 0 0 500000 0 0 ...\n",
      " $ crowdfunding        : num  0 0 0 0 0 0 0 0 0 0 ...\n",
      " $ other               : num  0 0 0 0 0 3000000 77500 150000 3000000 0 ...\n",
      " $ post.ipo            : num  0 0 0 0 0 0 0 0 0 0 ...\n",
      " $ private.equity      : num  0 0 0 0 0 0 0 0 0 0 ...\n",
      " $ series.a            : num  1750000 0 0 2520000 0 0 0 0 12400000 3000000 ...\n",
      " $ series.b            : num  0 0 7000000 0 0 0 0 0 2400000 2500000 ...\n",
      " $ series.c.           : num  0 0 0 0 0 0 0 0 0 0 ...\n",
      " $ venture             : num  0 0 0 0 500000 0 0 0 5150000 0 ...\n",
      " $ count_angel         : num  0 1 0 1 1 0 0 3 0 0 ...\n",
      " $ count_crowdfunding  : num  0 0 0 0 0 0 0 0 0 0 ...\n",
      " $ count_other         : num  0 0 0 0 0 1 1 1 1 0 ...\n",
      " $ count_post.ipo      : num  0 0 0 0 0 0 0 0 0 0 ...\n",
      " $ count_private.equity: num  0 0 0 0 0 0 0 0 0 0 ...\n",
      " $ count_series.a      : num  1 0 0 1 0 0 0 0 1 1 ...\n",
      " $ count_series.b      : num  0 0 1 0 0 0 0 0 3 1 ...\n",
      " $ count_series.c.     : num  0 0 0 0 0 0 0 0 0 0 ...\n",
      " $ count_venture       : num  0 0 0 0 1 0 0 0 1 0 ...\n",
      " $ time_angel          : num  0 241 0 -181 75 0 0 122 0 0 ...\n",
      " $ time_crowdfunding   : num  0 0 0 0 0 0 0 0 0 0 ...\n",
      " $ time_other          : num  0 0 0 0 0 ...\n",
      " $ time_post.ipo       : num  0 0 0 0 0 0 0 0 0 0 ...\n",
      " $ time_private.equity : num  0 0 0 0 0 0 0 0 0 0 ...\n",
      " $ time_series.a       : num  29 0 0 230 0 0 0 0 451 -194 ...\n",
      " $ time_series.b       : num  0 0 599 0 0 ...\n",
      " $ time_series.c.      : num  0 0 0 0 0 0 0 0 0 0 ...\n",
      " $ time_venture        : num  0 0 0 0 47 ...\n",
      " $ surv_target_all     : Surv [1:8778, 1:2]  462+  241+  599+ 1099   530   311+  649+  203+ 1628+ 1109+ ...\n",
      "  ..- attr(*, \"dimnames\")=List of 2\n",
      "  .. ..$ : NULL\n",
      "  .. ..$ : chr  \"time\" \"status\"\n",
      "  ..- attr(*, \"type\")= chr \"right\"\n",
      " $ surv_target_acquired: Surv [1:8778, 1:2]  462+  241+  599+ 1099   530   311+  649+  203+ 1628+ 1109+ ...\n",
      "  ..- attr(*, \"dimnames\")=List of 2\n",
      "  .. ..$ : NULL\n",
      "  .. ..$ : chr  \"time\" \"status\"\n",
      "  ..- attr(*, \"type\")= chr \"right\"\n",
      " $ surv_target_closed  : Surv [1:8778, 1:2]  462+  241+  599+ 1099+  530+  311+  649+  203+ 1628+ 1109+ ...\n",
      "  ..- attr(*, \"dimnames\")=List of 2\n",
      "  .. ..$ : NULL\n",
      "  .. ..$ : chr  \"time\" \"status\"\n",
      "  ..- attr(*, \"type\")= chr \"right\"\n"
     ]
    }
   ],
   "source": [
    "#shaping dataframe for survival analysis\n",
    "\n",
    "\n",
    "censoring_filter <- function(x){\n",
    "  if((x >censoring_date) || (x == 0)){\n",
    "    return(TRUE)\n",
    "  }\n",
    "  else{\n",
    "    return(FALSE)\n",
    "  }\n",
    "}\n",
    "rows_to_remove <- sapply(startups$days_of_existence, censoring_filter )  #applying the censoring filter\n",
    "rows_to_remove[is.na(rows_to_remove)] <- TRUE #also removing rows with NA lifetime\n",
    "\n",
    "temp_startups <- startups[!rows_to_remove,]\n",
    "\n",
    "\n",
    "\n",
    "\n",
    "surv_dataframe <- temp_startups[c(\"company_name\",\"category_code\", \"funding_total_usd\", \"funding_rounds\", \"state_code\")]\n",
    "\n",
    "surv_dataframe$target_acquired <- c(rep(0,1,dim(surv_dataframe)[1]))\n",
    "surv_dataframe$target_closed <- c(rep(0,1,dim(surv_dataframe)[1]))\n",
    "\n",
    "for (i in 1:dim(surv_dataframe)[1]){\n",
    "  if (temp_startups$status[i] == \"acquired\"){\n",
    "    surv_dataframe$target_acquired[i] <- 1\n",
    "  }\n",
    "  if (temp_startups$status[i] == \"closed\"){\n",
    "    surv_dataframe$target_closed[i] <- 1\n",
    "  }\n",
    "}\n",
    "\n",
    "surv_target_all <- Surv(time = temp_startups$days_of_existence, event = temp_startups$target)\n",
    "surv_target_acquired <- Surv(time = temp_startups$days_of_existence, event = surv_dataframe$target_acquired)\n",
    "surv_target_closed <- Surv(time = temp_startups$days_of_existence, event = surv_dataframe$target_closed)\n",
    "\n",
    "surv_dataframe <- left_join(surv_dataframe, funding_round_type_surv_shaped, by=\"company_name\")\n",
    "surv_dataframe <- data.frame(surv_dataframe,surv_target_all)\n",
    "surv_dataframe <- data.frame(surv_dataframe,surv_target_acquired)\n",
    "surv_dataframe <- data.frame(surv_dataframe,surv_target_closed)\n",
    "surv_dataframe <- surv_dataframe[,-1]\n",
    "\n",
    "str(surv_dataframe)\n",
    "\n",
    "#TODO use function cut() to split numeric values into intervals\n"
   ]
  },
  {
   "cell_type": "code",
   "execution_count": 264,
   "metadata": {
    "collapsed": true
   },
   "outputs": [],
   "source": [
    "rm(temp_startups)\n",
    "rm(funding_round_type_surv_shaped)"
   ]
  },
  {
   "cell_type": "markdown",
   "metadata": {},
   "source": [
    "Putting money values in log scale :"
   ]
  },
  {
   "cell_type": "code",
   "execution_count": 265,
   "metadata": {
    "collapsed": true
   },
   "outputs": [],
   "source": [
    "surv_dataframe$funding_total_usd <- log(surv_dataframe$funding_total_usd+1, base=10)\n",
    "surv_dataframe$angel <- log(surv_dataframe$angel + 1, base=10)\n",
    "surv_dataframe$crowdfunding <- log(surv_dataframe$crowdfunding + 1, base=10)\n",
    "surv_dataframe$other <- log(surv_dataframe$other + 1, base=10)\n",
    "surv_dataframe$post.ipo <- log(surv_dataframe$post.ipo + 1, base=10)\n",
    "surv_dataframe$private.equity <- log(surv_dataframe$private.equity + 1, base=10)\n",
    "surv_dataframe$series.a <- log(surv_dataframe$series.a + 1, base=10)\n",
    "surv_dataframe$series.b <- log(surv_dataframe$series.b + 1, base=10)\n",
    "surv_dataframe$series.c. <- log(surv_dataframe$series.c. + 1, base=10)\n",
    "surv_dataframe$venture <- log(surv_dataframe$venture + 1, base=10)"
   ]
  },
  {
   "cell_type": "markdown",
   "metadata": {},
   "source": [
    "### <span style=\"color:red\">II.1. Kaplan-Meier estimators for all categories</span>"
   ]
  },
  {
   "cell_type": "code",
   "execution_count": 266,
   "metadata": {
    "scrolled": false
   },
   "outputs": [],
   "source": [
    "#fitting model\n",
    "fit.KMall <- survfit(surv_target_all ~ 1, data=surv_dataframe)\n",
    "fit.KMacqui <- survfit(surv_target_acquired ~ 1, data=surv_dataframe)\n",
    "fit.KMclos <- survfit(surv_target_closed ~ 1, data=surv_dataframe)"
   ]
  },
  {
   "cell_type": "code",
   "execution_count": 267,
   "metadata": {
    "scrolled": false
   },
   "outputs": [
    {
     "data": {
      "image/png": "[encoded data removed]",
      "text/plain": [
       "plot without title"
      ]
     },
     "metadata": {},
     "output_type": "display_data"
    }
   ],
   "source": [
    "plot(fit.KMall,col=\"blue\")\n",
    "par(new=T)\n",
    "plot(fit.KMacqui, col=\"purple\")\n",
    "par(new=T)\n",
    "plot(fit.KMclos, xlab=\"days operating\", ylab=\"percentage operating\", col=\"red\")\n",
    "legend(1000,0.4, col =c(\"blue\", \"purple\", \"red\"), legend=(c(\"acquired & closed\", \"acquired\", \"closed\")), lty=1)"
   ]
  },
  {
   "cell_type": "markdown",
   "metadata": {},
   "source": [
    "As expected, the acquired status is much more significant than the closed status. We will proceed as said before, trying to model the survival according to each status individually, or combined."
   ]
  },
  {
   "cell_type": "markdown",
   "metadata": {},
   "source": [
    "### <span style=\"color:red\">II.2. Kaplan-Meier estimator on a subset of the categories</span>"
   ]
  },
  {
   "cell_type": "markdown",
   "metadata": {},
   "source": [
    "We will now study the 1st four categories, in term of number of observations. We will then select the category with the most visible changes over time for the rest of the analysis."
   ]
  },
  {
   "cell_type": "code",
   "execution_count": 268,
   "metadata": {},
   "outputs": [],
   "source": [
    "temp_surv_dataframe_software <- surv_dataframe[surv_dataframe$category_code == \"software\",]\n",
    "temp_surv_dataframe_biotech<- surv_dataframe[surv_dataframe$category_code == \"biotech\",]\n",
    "temp_surv_dataframe_web <- surv_dataframe[surv_dataframe$category_code == \"web\",]\n",
    "temp_surv_dataframe_mobile <- surv_dataframe[surv_dataframe$category_code == \"mobile\",]"
   ]
  },
  {
   "cell_type": "code",
   "execution_count": 269,
   "metadata": {
    "scrolled": false
   },
   "outputs": [
    {
     "data": {
      "image/png": "[encoded data removed]",
      "text/plain": [
       "Plot with title \"survival according to the closed status\""
      ]
     },
     "metadata": {},
     "output_type": "display_data"
    }
   ],
   "source": [
    "\n",
    "\n",
    "fit.KM <- survfit(surv_target_closed ~ 1, data=temp_surv_dataframe_software)\n",
    "plot(fit.KM,col=\"blue\", xmax=3500, ylim=c(0.4,1))\n",
    "par(new=T)\n",
    "fit.KM <- survfit(surv_target_closed ~ 1, data=temp_surv_dataframe_biotech)\n",
    "plot(fit.KM,col=\"orange\", xmax=3500, ylim=c(0.4,1))\n",
    "par(new=T)\n",
    "fit.KM <- survfit(surv_target_closed ~ 1, data=temp_surv_dataframe_web)\n",
    "plot(fit.KM,col=\"purple\", xmax=3500, ylim=c(0.4,1))\n",
    "par(new=T)\n",
    "fit.KM <- survfit(surv_target_closed ~ 1, data=temp_surv_dataframe_mobile)\n",
    "plot(fit.KM,col=\"black\", xlab=\"days operating\", ylab=\"percentage operating\", xmax=3500, ylim=c(0.4,1), main = \"survival according to the closed status\")\n",
    "\n",
    "\n",
    "legend(500,0.6, col =c(\"blue\", \"orange\", \"purple\", \"black\"), legend=(c(\"software\", \"biotech\",\"web\", \"mobile\")), lty=1)"
   ]
  },
  {
   "cell_type": "markdown",
   "metadata": {},
   "source": [
    "The biotech and the web are the most distant estimators from each other."
   ]
  },
  {
   "cell_type": "code",
   "execution_count": 270,
   "metadata": {
    "scrolled": false
   },
   "outputs": [
    {
     "data": {
      "image/png": "[encoded data removed]",
      "text/plain": [
       "Plot with title \"survival according to the acquired status\""
      ]
     },
     "metadata": {},
     "output_type": "display_data"
    }
   ],
   "source": [
    "fit.KM <- survfit(surv_target_acquired ~ 1, data=temp_surv_dataframe_software)\n",
    "plot(fit.KM,col=\"blue\", xmax=3500, ylim=c(0.4,1))\n",
    "par(new=T)\n",
    "fit.KM <- survfit(surv_target_acquired ~ 1, data=temp_surv_dataframe_biotech)\n",
    "plot(fit.KM,col=\"orange\", xmax=3500, ylim=c(0.4,1))\n",
    "par(new=T)\n",
    "fit.KM <- survfit(surv_target_acquired ~ 1, data=temp_surv_dataframe_web)\n",
    "plot(fit.KM,col=\"purple\", xmax=3500, ylim=c(0.4,1))\n",
    "par(new=T)\n",
    "fit.KM <- survfit(surv_target_acquired ~ 1, data=temp_surv_dataframe_mobile)\n",
    "plot(fit.KM,col=\"black\", xlab=\"days operating\", ylab=\"percentage operating\", xmax=3500, ylim=c(0.4,1), main = \"survival according to the acquired status\")\n",
    "\n",
    "legend(500,0.6, col =c(\"blue\", \"orange\", \"purple\", \"black\"), legend=(c(\"software\", \"biotech\",\"web\", \"mobile\")), lty=1)"
   ]
  },
  {
   "cell_type": "markdown",
   "metadata": {},
   "source": [
    "In both cases the Web category drops the fastest, and the biotech has the best survival. We will compare the differences between those two groups, to see what allows biotech companies to perform better. Also, the survival rate computed in  <span style=\"color:red\"><b>I.3.</b></span> shows that biotech startups goes into IPO most frequently than other groups.\n",
    "\n",
    "\n",
    "We will now make a logrank test between these two curves : \n",
    "    Logrank test :\n",
    "    \n",
    "        - H0:No difference between survival curves\n",
    "        - H1: Statistical difference between the curves"
   ]
  },
  {
   "cell_type": "code",
   "execution_count": 271,
   "metadata": {},
   "outputs": [
    {
     "data": {
      "text/plain": [
       "Call:\n",
       "survdiff(formula = surv_target_acquired ~ category_code, data = subset_surv_dataframe)\n",
       "\n",
       "                        N Observed Expected (O-E)^2/E (O-E)^2/V\n",
       "category_code=web     917      154       76      80.1       140\n",
       "category_code=biotech 792       26      104      58.5       140\n",
       "\n",
       " Chisq= 140  on 1 degrees of freedom, p= 0 "
      ]
     },
     "metadata": {},
     "output_type": "display_data"
    }
   ],
   "source": [
    "subset_surv_dataframe <- surv_dataframe[surv_dataframe$category_code %in% c(\"biotech\",\"web\"),]\n",
    "\n",
    "survdiff(formula = surv_target_acquired ~ category_code, data=subset_surv_dataframe)"
   ]
  },
  {
   "cell_type": "markdown",
   "metadata": {},
   "source": [
    "The p-values equals 0, so we can reject H0. The curves are indeed different as we can see it on the plot above."
   ]
  },
  {
   "cell_type": "code",
   "execution_count": 272,
   "metadata": {
    "collapsed": true
   },
   "outputs": [],
   "source": [
    "rm(temp_surv_dataframe_biotech)\n",
    "rm(temp_surv_dataframe_mobile)\n",
    "rm(temp_surv_dataframe_software)\n",
    "rm(temp_surv_dataframe_web)"
   ]
  },
  {
   "cell_type": "markdown",
   "metadata": {},
   "source": [
    "###  <span style=\"color:red\">II.3. Survival according to the repartition of funding rounds</span>\n",
    "\n",
    "\n",
    "How long after the founding date does the fundings starts ?\n",
    "\n",
    "We split the fundings in 2 groups :\n",
    "\n",
    "Group 1 : Main investments made in all startups \n",
    "\n",
    "    - series.a : 1st investment round\n",
    "    - series.b : 2nd ----------------\n",
    "    - series.c : 3rd ----------------\n",
    "    \n",
    "Group 2 : Side investments made out of the group 1 scope\n",
    "\n",
    "    - angel : investment from a business angel\n",
    "    - private.equity : comes from an investment fund, targeted towards old companies\n",
    "    - venture : a kind of private equity, targeted towards startup in growth \n",
    "    - post.ipo : investment made after the startup went into stock market\n",
    "    - other"
   ]
  },
  {
   "cell_type": "code",
   "execution_count": 273,
   "metadata": {
    "collapsed": true
   },
   "outputs": [],
   "source": [
    "library(grid)\n",
    "\n",
    "web_surv_df <- surv_dataframe[surv_dataframe$category_code == 'web',]\n",
    "aa = web_surv_df[c(\"angel\",\"time_angel\")]\n",
    "aa = data.frame(aa, c(\"angel\"))\n",
    "names(aa) = c(\"amount\", \"time\", \"type\")\n",
    "\n",
    "bb = web_surv_df[c(\"crowdfunding\", \"time_crowdfunding\")]\n",
    "bb = data.frame(bb, c(\"crowdfunding\"))\n",
    "names(bb) = c(\"amount\", \"time\", \"type\")\n",
    "\n",
    "cc = web_surv_df[c(\"other\", \"time_other\")]       \n",
    "cc = data.frame(cc, c(\"other\"))\n",
    "names(cc) = c(\"amount\", \"time\", \"type\")\n",
    "\n",
    "dd = web_surv_df[c(\"post.ipo\", \"time_post.ipo\" )] \n",
    "dd = data.frame(dd, c(\"post.ipo\"))\n",
    "names(dd) = c(\"amount\", \"time\", \"type\")\n",
    "\n",
    "ee = web_surv_df[c(\"private.equity\", \"time_private.equity\")]\n",
    "ee = data.frame(ee, c(\"private.equity\"))\n",
    "names(ee) = c(\"amount\", \"time\", \"type\")\n",
    "\n",
    "ff = web_surv_df[c(\"series.a\", \"time_series.a\")] \n",
    "ff = data.frame(ff, c(\"series.a\"))\n",
    "names(ff) = c(\"amount\", \"time\", \"type\")\n",
    "\n",
    "gg = web_surv_df[c(\"series.b\", \"time_series.b\")]  \n",
    "gg = data.frame(gg, c(\"series.b\"))\n",
    "names(gg) = c(\"amount\", \"time\", \"type\")\n",
    "\n",
    "hh = web_surv_df[c(\"series.c.\", \"time_series.c.\")]      \n",
    "hh = data.frame(hh, c(\"series.c.\"))\n",
    "names(hh) = c(\"amount\", \"time\", \"type\")\n",
    "\n",
    "ii = web_surv_df[c(\"venture\", \"time_venture\")]     \n",
    "ii = data.frame(ii, c(\"venture\"))\n",
    "names(ii) = c(\"amount\", \"time\", \"type\")\n",
    "\n",
    "\n",
    "df_to_plot1 = rbind(aa,bb,cc,dd,ee,ii)\n",
    "df_to_plot1 = df_to_plot1[-which(df_to_plot1$amount == 0),]\n",
    "df_to_plot2 = rbind(ff,gg,hh)\n",
    "df_to_plot2 = df_to_plot2[-which(df_to_plot2$amount == 0),]\n",
    "\n",
    "plot1 = ggplot(data=df_to_plot1, aes(x=time,  group=type, fill=type)) + geom_histogram(position='dodge', binwidth = 365) + labs(title='Web')\n",
    "plot2 = ggplot(data=df_to_plot2, aes(x=time,  group=type, fill=type)) + geom_histogram(position='dodge', binwidth = 365) + labs(title='Web')"
   ]
  },
  {
   "cell_type": "code",
   "execution_count": 274,
   "metadata": {
    "collapsed": true
   },
   "outputs": [],
   "source": [
    "biotech_surv_df <- surv_dataframe[surv_dataframe$category_code == 'biotech',]\n",
    "aa = biotech_surv_df[c(\"angel\",\"time_angel\")]\n",
    "aa = data.frame(aa, c(\"angel\"))\n",
    "names(aa) = c(\"amount\", \"time\", \"type\")\n",
    "\n",
    "bb = biotech_surv_df[c(\"crowdfunding\", \"time_crowdfunding\")]\n",
    "bb = data.frame(bb, c(\"crowdfunding\"))\n",
    "names(bb) = c(\"amount\", \"time\", \"type\")\n",
    "\n",
    "cc = biotech_surv_df[c(\"other\", \"time_other\")]       \n",
    "cc = data.frame(cc, c(\"other\"))\n",
    "names(cc) = c(\"amount\", \"time\", \"type\")\n",
    "\n",
    "dd = biotech_surv_df[c(\"post.ipo\", \"time_post.ipo\" )] \n",
    "dd = data.frame(dd, c(\"post.ipo\"))\n",
    "names(dd) = c(\"amount\", \"time\", \"type\")\n",
    "\n",
    "ee = biotech_surv_df[c(\"private.equity\", \"time_private.equity\")]\n",
    "ee = data.frame(ee, c(\"private.equity\"))\n",
    "names(ee) = c(\"amount\", \"time\", \"type\")\n",
    "\n",
    "ff = biotech_surv_df[c(\"series.a\", \"time_series.a\")] \n",
    "ff = data.frame(ff, c(\"series.a\"))\n",
    "names(ff) = c(\"amount\", \"time\", \"type\")\n",
    "\n",
    "gg = biotech_surv_df[c(\"series.b\", \"time_series.b\")]  \n",
    "gg = data.frame(gg, c(\"series.b\"))\n",
    "names(gg) = c(\"amount\", \"time\", \"type\")\n",
    "\n",
    "hh = biotech_surv_df[c(\"series.c.\", \"time_series.c.\")]      \n",
    "hh = data.frame(hh, c(\"series.c.\"))\n",
    "names(hh) = c(\"amount\", \"time\", \"type\")\n",
    "\n",
    "ii = biotech_surv_df[c(\"venture\", \"time_venture\")]     \n",
    "ii = data.frame(ii, c(\"venture\"))\n",
    "names(ii) = c(\"amount\", \"time\", \"type\")\n",
    "\n",
    "\n",
    "df_to_plot3 = rbind(aa,bb,cc,dd,ee,ii)\n",
    "df_to_plot3 = df_to_plot3[-which(df_to_plot3$amount == 0),]\n",
    "df_to_plot4 = rbind(ff,gg,hh)\n",
    "df_to_plot4 = df_to_plot4[-which(df_to_plot4$amount == 0),]\n",
    "\n",
    "\n",
    "plot3 = ggplot(data=df_to_plot3, aes(x=time,  group=type, fill=type)) + geom_histogram(position='dodge', binwidth = 365) + labs(title='Biotech')\n",
    "plot4 = ggplot(data=df_to_plot4, aes(x=time,  group=type, fill=type)) + geom_histogram(position='dodge', binwidth = 365) + labs(title='Biotech')"
   ]
  },
  {
   "cell_type": "code",
   "execution_count": 275,
   "metadata": {},
   "outputs": [
    {
     "data": {
      "image/png": "[encoded data removed]",
      "text/plain": [
       "plot without title"
      ]
     },
     "metadata": {},
     "output_type": "display_data"
    }
   ],
   "source": [
    "library(gridExtra)\n",
    "grid.arrange(plot2, plot4,nrow=2, top=textGrob(\" Group 1 investments \",gp=gpar(fontsize=14,font=1)))"
   ]
  },
  {
   "cell_type": "markdown",
   "metadata": {},
   "source": [
    "These plots are very interesting, because we see a clear difference between Web and Biotech in the series.a investments. At the same time, Web startups got twice as many series.a investment compared to Biotech. After that, the quantity of investments is about the same, meaning that a lot of Web startups don't go further the 1st investment round."
   ]
  },
  {
   "cell_type": "code",
   "execution_count": 276,
   "metadata": {
    "scrolled": false
   },
   "outputs": [
    {
     "data": {
      "image/png": "[encoded data removed]",
      "text/plain": [
       "plot without title"
      ]
     },
     "metadata": {},
     "output_type": "display_data"
    }
   ],
   "source": [
    "grid.arrange(plot1, plot3,nrow=2,  top=textGrob(\" Group 2 investments \",gp=gpar(fontsize=14,font=1)))"
   ]
  },
  {
   "cell_type": "markdown",
   "metadata": {},
   "source": [
    "Here, we see that web startups receive a lot more funds from business angels than biotech startups, and that biotech receive a bit more venture funds than the web.\n",
    "We expect to see these variables to have a strong effect on the survival.\n",
    "\n",
    "Now, let's plot the amount of money invested at each round, against the time when this funding has been made."
   ]
  },
  {
   "cell_type": "code",
   "execution_count": 277,
   "metadata": {
    "scrolled": false
   },
   "outputs": [
    {
     "name": "stderr",
     "output_type": "stream",
     "text": [
      "Warning message:\n",
      "\"Removed 11 rows containing missing values (geom_point).\"Warning message:\n",
      "\"Removed 49 rows containing missing values (geom_point).\"Warning message:\n",
      "\"Removed 5 rows containing missing values (geom_point).\"Warning message:\n",
      "\"Removed 7 rows containing missing values (geom_point).\""
     ]
    },
    {
     "data": {
      "image/png": "[encoded data removed]",
      "text/plain": [
       "plot without title"
      ]
     },
     "metadata": {},
     "output_type": "display_data"
    }
   ],
   "source": [
    "plot1 = ggplot(data=df_to_plot1, aes(x=time, y=amount, group=type, col=type)) + geom_point(size=0.8) + labs(title='Web')\n",
    "plot2 = ggplot(data=df_to_plot2, aes(x=time, y=amount, group=type, col=type)) + geom_point(size=0.8) + labs(title='Web')\n",
    "plot3 = ggplot(data=df_to_plot3, aes(x=time, y=amount, group=type, col=type)) + geom_point(size=0.8) + labs(title='Biotech')\n",
    "plot4 = ggplot(data=df_to_plot4, aes(x=time, y=amount, group=type, col=type)) + geom_point(size=0.8) + labs(title='Biotech')\n",
    "\n",
    "grid.arrange(plot2, plot1, plot4, plot3,  nrow=2)"
   ]
  },
  {
   "cell_type": "markdown",
   "metadata": {},
   "source": [
    "There seems to be some linearity in the web plots. We will test this later."
   ]
  },
  {
   "cell_type": "code",
   "execution_count": 278,
   "metadata": {
    "collapsed": true
   },
   "outputs": [],
   "source": [
    "rm(aa)\n",
    "rm(bb)\n",
    "rm(cc)\n",
    "rm(dd)\n",
    "rm(ee)\n",
    "rm(ff)\n",
    "rm(gg)\n",
    "rm(hh)\n",
    "rm(ii)"
   ]
  },
  {
   "cell_type": "markdown",
   "metadata": {},
   "source": [
    "##  <span style=\"color:red\">III. Machine learning</span>\n",
    "\n",
    "### <span style=\"color:red\">III.1. Cox models</span>"
   ]
  },
  {
   "cell_type": "code",
   "execution_count": 279,
   "metadata": {
    "scrolled": false
   },
   "outputs": [
    {
     "data": {
      "text/plain": [
       " funding_total_usd funding_rounds   target_acquired  target_closed    \n",
       " Min.   :0.6021    Min.   : 1.000   Min.   :0.0000   Min.   :0.00000  \n",
       " 1st Qu.:0.8311    1st Qu.: 1.000   1st Qu.:0.0000   1st Qu.:0.00000  \n",
       " Median :0.8698    Median : 1.000   Median :0.0000   Median :0.00000  \n",
       " Mean   :0.8655    Mean   : 1.929   Mean   :0.1053   Mean   :0.04154  \n",
       " 3rd Qu.:0.9040    3rd Qu.: 2.000   3rd Qu.:0.0000   3rd Qu.:0.00000  \n",
       " Max.   :1.0024    Max.   :14.000   Max.   :1.0000   Max.   :1.00000  \n",
       "                                                                      \n",
       "     angel            other           post.ipo        private.equity   \n",
       " Min.   :0.0000   Min.   :0.0000   Min.   :0.000000   Min.   :0.00000  \n",
       " 1st Qu.:0.0000   1st Qu.:0.0000   1st Qu.:0.000000   1st Qu.:0.00000  \n",
       " Median :0.0000   Median :0.0000   Median :0.000000   Median :0.00000  \n",
       " Mean   :0.2638   Mean   :0.1237   Mean   :0.001566   Mean   :0.03606  \n",
       " 3rd Qu.:0.7863   3rd Qu.:0.0000   3rd Qu.:0.000000   3rd Qu.:0.00000  \n",
       " Max.   :0.8551   Max.   :0.9482   Max.   :0.952261   Max.   :0.96403  \n",
       " NA's   :38       NA's   :1                           NA's   :1        \n",
       "    series.a         series.b        series.c.          venture      \n",
       " Min.   :0.0000   Min.   :0.0000   Min.   :0.00000   Min.   :0.0000  \n",
       " 1st Qu.:0.0000   1st Qu.:0.0000   1st Qu.:0.00000   1st Qu.:0.0000  \n",
       " Median :0.0000   Median :0.0000   Median :0.00000   Median :0.0000  \n",
       " Mean   :0.3411   Mean   :0.1731   Mean   :0.09408   Mean   :0.2750  \n",
       " 3rd Qu.:0.8664   3rd Qu.:0.0000   3rd Qu.:0.00000   3rd Qu.:0.8237  \n",
       " Max.   :0.9620   Max.   :0.9632   Max.   :0.99903   Max.   :0.9627  \n",
       " NA's   :9        NA's   :5        NA's   :2         NA's   :16      \n",
       "  count_angel      count_other     count_post.ipo     count_private.equity\n",
       " Min.   :0.0000   Min.   :0.0000   Min.   :0.000000   Min.   :0.00000     \n",
       " 1st Qu.:0.0000   1st Qu.:0.0000   1st Qu.:0.000000   1st Qu.:0.00000     \n",
       " Median :0.0000   Median :0.0000   Median :0.000000   Median :0.00000     \n",
       " Mean   :0.4336   Mean   :0.1937   Mean   :0.001755   Mean   :0.04389     \n",
       " 3rd Qu.:1.0000   3rd Qu.:0.0000   3rd Qu.:0.000000   3rd Qu.:0.00000     \n",
       " Max.   :5.0000   Max.   :5.0000   Max.   :1.000000   Max.   :2.00000     \n",
       "                                                                          \n",
       " count_series.a   count_series.b   count_series.c.  count_venture   \n",
       " Min.   :0.0000   Min.   :0.0000   Min.   :0.0000   Min.   :0.0000  \n",
       " 1st Qu.:0.0000   1st Qu.:0.0000   1st Qu.:0.0000   1st Qu.:0.0000  \n",
       " Median :0.0000   Median :0.0000   Median :0.0000   Median :0.0000  \n",
       " Mean   :0.4552   Mean   :0.2212   Mean   :0.1533   Mean   :0.4242  \n",
       " 3rd Qu.:1.0000   3rd Qu.:0.0000   3rd Qu.:0.0000   3rd Qu.:1.0000  \n",
       " Max.   :4.0000   Max.   :3.0000   Max.   :5.0000   Max.   :9.0000  \n",
       "                                                                    \n",
       "   time_angel       time_other     time_post.ipo      time_private.equity\n",
       " Min.   :-790.0   Min.   :-499.0   Min.   :   0.000   Min.   :   0.00    \n",
       " 1st Qu.:   0.0   1st Qu.:   0.0   1st Qu.:   0.000   1st Qu.:   0.00    \n",
       " Median :   0.0   Median :   0.0   Median :   0.000   Median :   0.00    \n",
       " Mean   : 173.6   Mean   : 242.8   Mean   :   2.819   Mean   :  66.36    \n",
       " 3rd Qu.: 138.0   3rd Qu.:   0.0   3rd Qu.:   0.000   3rd Qu.:   0.00    \n",
       " Max.   :3529.0   Max.   :3921.0   Max.   :2409.000   Max.   :3836.00    \n",
       "                                                                         \n",
       " time_series.a    time_series.b     time_series.c.    time_venture  \n",
       " Min.   :-944.0   Min.   :-1888.0   Min.   :-487.0   Min.   :-2557  \n",
       " 1st Qu.:   0.0   1st Qu.:    0.0   1st Qu.:   0.0   1st Qu.:    0  \n",
       " Median :   0.0   Median :    0.0   Median :   0.0   Median :    0  \n",
       " Mean   : 299.5   Mean   :  234.5   Mean   : 184.8   Mean   :  440  \n",
       " 3rd Qu.: 417.0   3rd Qu.:    0.0   3rd Qu.:   0.0   3rd Qu.:  594  \n",
       " Max.   :3794.0   Max.   : 3568.0   Max.   :3781.0   Max.   : 3780  \n",
       "                                                                    \n",
       " surv_target_all.time  surv_target_all.status\n",
       " Min.   :  31.00      Min.   :0.0000000      \n",
       " 1st Qu.: 547.00      1st Qu.:0.0000000      \n",
       " Median :1126.00      Median :0.0000000      \n",
       " Mean   :1321.92      Mean   :0.1468695      \n",
       " 3rd Qu.:1978.00      3rd Qu.:0.0000000      \n",
       " Max.   :3634.00      Max.   :1.0000000      \n",
       "                                             \n",
       " surv_target_acquired.time  surv_target_acquired.status\n",
       " Min.   :  31.00      Min.   :0.0000000                \n",
       " 1st Qu.: 547.00      1st Qu.:0.0000000                \n",
       " Median :1126.00      Median :0.0000000                \n",
       " Mean   :1321.92      Mean   :0.1053248                \n",
       " 3rd Qu.:1978.00      3rd Qu.:0.0000000                \n",
       " Max.   :3634.00      Max.   :1.0000000                \n",
       "                                                       \n",
       " surv_target_closed.time  surv_target_closed.status\n",
       " Min.   :  31.00      Min.   :0.0000000            \n",
       " 1st Qu.: 547.00      1st Qu.:0.0000000            \n",
       " Median :1126.00      Median :0.0000000            \n",
       " Mean   :1321.92      Mean   :0.0415448            \n",
       " 3rd Qu.:1978.00      3rd Qu.:0.0000000            \n",
       " Max.   :3634.00      Max.   :1.0000000            \n",
       "                                                   "
      ]
     },
     "metadata": {},
     "output_type": "display_data"
    }
   ],
   "source": [
    "subset_surv_dataframe <- surv_dataframe[surv_dataframe$category_code %in% c(\"biotech\",\"web\"),]\n",
    "\n",
    "subset_surv_dataframe <- subset_surv_dataframe[-c(1,4,8,17,26)] #dropping some columns including crowdfunding because it is empty here\n",
    "\n",
    "#log the money\n",
    "subset_surv_dataframe$funding_total_usd <- log(subset_surv_dataframe$funding_total_usd+1, base=10)\n",
    "subset_surv_dataframe$angel <- log(subset_surv_dataframe$angel + 1, base=10)\n",
    "subset_surv_dataframe$other <- log(subset_surv_dataframe$other + 1, base=10)\n",
    "subset_surv_dataframe$post.ipo <- log(subset_surv_dataframe$post.ipo + 1, base=10)\n",
    "subset_surv_dataframe$private.equity <- log(subset_surv_dataframe$private.equity + 1, base=10)\n",
    "subset_surv_dataframe$series.a <- log(subset_surv_dataframe$series.a + 1, base=10)\n",
    "subset_surv_dataframe$series.b <- log(subset_surv_dataframe$series.b + 1, base=10)\n",
    "subset_surv_dataframe$series.c. <- log(subset_surv_dataframe$series.c. + 1, base=10)\n",
    "subset_surv_dataframe$venture <- log(subset_surv_dataframe$venture + 1, base=10)\n",
    "\n",
    "summary(subset_surv_dataframe)"
   ]
  },
  {
   "cell_type": "markdown",
   "metadata": {},
   "source": [
    "#### <span style=\"color:blue\">III.1.1. Acquired model</span>"
   ]
  },
  {
   "cell_type": "code",
   "execution_count": 280,
   "metadata": {
    "scrolled": true
   },
   "outputs": [
    {
     "name": "stderr",
     "output_type": "stream",
     "text": [
      "Warning message in fitter(X, Y, strats, offset, init, control, weights = weights, :\n",
      "\"Loglik converged before variable  3 ; beta may be infinite. \"Warning message in fitter(X, Y, strats, offset, init, control, weights = weights, :\n",
      "\"Loglik converged before variable  3,4 ; beta may be infinite. \""
     ]
    }
   ],
   "source": [
    "fit.webAcquired = coxph(data=web_surv_df, formula= surv_target_acquired ~ angel + other  + private.equity + series.a + series.b  + series.c. + venture)\n",
    "fit.bioAcquired = coxph(data=biotech_surv_df, formula= surv_target_acquired ~ angel + other + post.ipo + private.equity + series.a + series.b  + series.c. + venture)"
   ]
  },
  {
   "cell_type": "markdown",
   "metadata": {},
   "source": [
    "cox.zph => \n",
    "    \n",
    "    - H0 : The Cox assumption is not met\n",
    "    - H1 : The model is correctly fitted\n",
    "    \n",
    "We are looking for p-values smaller than 0.05"
   ]
  },
  {
   "cell_type": "code",
   "execution_count": 281,
   "metadata": {
    "scrolled": true
   },
   "outputs": [
    {
     "data": {
      "text/plain": [
       "                   rho    chisq      p\n",
       "angel          0.05485 4.19e-01 0.5174\n",
       "other          0.09704 1.21e+00 0.2704\n",
       "private.equity 0.08056 8.06e-09 0.9999\n",
       "series.a       0.00375 1.76e-03 0.9665\n",
       "series.b       0.22844 6.54e+00 0.0105\n",
       "series.c.      0.02054 5.32e-02 0.8177\n",
       "venture        0.04764 3.41e-01 0.5594\n",
       "GLOBAL              NA 1.04e+01 0.1694"
      ]
     },
     "metadata": {},
     "output_type": "display_data"
    }
   ],
   "source": [
    "cox.zph(fit.webAcquired)"
   ]
  },
  {
   "cell_type": "code",
   "execution_count": 282,
   "metadata": {
    "scrolled": true
   },
   "outputs": [
    {
     "data": {
      "text/plain": [
       "                   rho    chisq     p\n",
       "angel          -0.0865 1.76e-01 0.675\n",
       "other           0.1613 5.13e-01 0.474\n",
       "post.ipo        0.0552 2.47e-11 1.000\n",
       "private.equity  0.3710 9.20e-09 1.000\n",
       "series.a       -0.2407 1.16e+00 0.282\n",
       "series.b       -0.1456 6.15e-01 0.433\n",
       "series.c.       0.1220 5.06e-01 0.477\n",
       "venture        -0.2613 1.56e+00 0.212\n",
       "GLOBAL              NA 4.29e+00 0.830"
      ]
     },
     "metadata": {},
     "output_type": "display_data"
    }
   ],
   "source": [
    "cox.zph(fit.bioAcquired)"
   ]
  },
  {
   "cell_type": "markdown",
   "metadata": {},
   "source": [
    "Only the series.b. is significant to determine the acquisition of web startups."
   ]
  },
  {
   "cell_type": "markdown",
   "metadata": {},
   "source": [
    "#### <span style=\"color:blue\">III.1.2. Closed model</span>"
   ]
  },
  {
   "cell_type": "code",
   "execution_count": 283,
   "metadata": {
    "scrolled": true
   },
   "outputs": [
    {
     "name": "stderr",
     "output_type": "stream",
     "text": [
      "Warning message in fitter(X, Y, strats, offset, init, control, weights = weights, :\n",
      "\"Loglik converged before variable  3 ; beta may be infinite. \"Warning message in fitter(X, Y, strats, offset, init, control, weights = weights, :\n",
      "\"Loglik converged before variable  1,3,4 ; beta may be infinite. \""
     ]
    }
   ],
   "source": [
    "fit.webClosed = coxph(data=web_surv_df, formula= surv_target_closed ~ angel + other  + private.equity + series.a + series.b  + series.c. + venture)\n",
    "fit.bioClosed = coxph(data=biotech_surv_df, formula= surv_target_closed ~ angel + other + post.ipo + private.equity + series.a + series.b  + series.c. + venture)"
   ]
  },
  {
   "cell_type": "code",
   "execution_count": 284,
   "metadata": {},
   "outputs": [
    {
     "data": {
      "text/plain": [
       "                    rho    chisq       p\n",
       "angel           0.17654 1.81e+00 0.17858\n",
       "other           0.19407 2.50e+00 0.11408\n",
       "private.equity  0.00543 2.05e-11 1.00000\n",
       "series.a        0.22073 2.75e+00 0.09742\n",
       "series.b        0.31932 5.05e+00 0.02462\n",
       "series.c.      -0.35879 6.70e+00 0.00965\n",
       "venture         0.10127 6.76e-01 0.41083\n",
       "GLOBAL               NA 1.52e+01 0.03379"
      ]
     },
     "metadata": {},
     "output_type": "display_data"
    }
   ],
   "source": [
    "cox.zph(fit.webClosed)"
   ]
  },
  {
   "cell_type": "code",
   "execution_count": 285,
   "metadata": {},
   "outputs": [
    {
     "data": {
      "text/plain": [
       "                  rho    chisq      p\n",
       "angel           0.781 2.94e-08 0.9999\n",
       "other           0.564 3.33e+00 0.0679\n",
       "post.ipo        0.825 1.96e-09 1.0000\n",
       "private.equity  0.839 1.20e-08 0.9999\n",
       "series.a        0.152 2.11e-01 0.6461\n",
       "series.b       -0.136 2.01e-01 0.6537\n",
       "series.c.       0.392 2.29e+00 0.1306\n",
       "venture         0.696 5.48e+00 0.0192\n",
       "GLOBAL             NA 9.42e+00 0.3081"
      ]
     },
     "metadata": {},
     "output_type": "display_data"
    }
   ],
   "source": [
    "cox.zph(fit.bioClosed)"
   ]
  },
  {
   "cell_type": "markdown",
   "metadata": {},
   "source": [
    "These are the best fitted models, even with the lack of observations for closed startups. However, the model for biotechnologies is not too good. We can see that series a,b,and c are significant in the closing status for web startups."
   ]
  },
  {
   "cell_type": "markdown",
   "metadata": {},
   "source": [
    "#### <span style=\"color:blue\">III.1.3. Both model</span>"
   ]
  },
  {
   "cell_type": "code",
   "execution_count": 286,
   "metadata": {},
   "outputs": [
    {
     "name": "stderr",
     "output_type": "stream",
     "text": [
      "Warning message in fitter(X, Y, strats, offset, init, control, weights = weights, :\n",
      "\"Loglik converged before variable  3 ; beta may be infinite. \"Warning message in fitter(X, Y, strats, offset, init, control, weights = weights, :\n",
      "\"Loglik converged before variable  3 ; beta may be infinite. \""
     ]
    }
   ],
   "source": [
    "fit.webBoth <- coxph(data=web_surv_df, formula= surv_target_all ~ angel + other  + private.equity + series.a + series.b  + series.c. + venture)\n",
    "fit.bioBoth <- coxph(data=biotech_surv_df, formula= surv_target_all ~ angel + other  + private.equity + series.a + series.b  + series.c. + venture)"
   ]
  },
  {
   "cell_type": "code",
   "execution_count": 287,
   "metadata": {},
   "outputs": [
    {
     "data": {
      "text/plain": [
       "                    rho    chisq       p\n",
       "angel           0.07062 9.72e-01 0.32425\n",
       "other           0.08322 1.35e+00 0.24447\n",
       "private.equity  0.12177 1.91e-08 0.99989\n",
       "series.a        0.07112 9.07e-01 0.34097\n",
       "series.b        0.24580 1.04e+01 0.00123\n",
       "series.c.      -0.00885 1.41e-02 0.90554\n",
       "venture         0.04521 4.44e-01 0.50497\n",
       "GLOBAL               NA 1.67e+01 0.01913"
      ]
     },
     "metadata": {},
     "output_type": "display_data"
    }
   ],
   "source": [
    "cox.zph(fit.webBoth)"
   ]
  },
  {
   "cell_type": "code",
   "execution_count": 288,
   "metadata": {},
   "outputs": [
    {
     "data": {
      "text/plain": [
       "                    rho    chisq     p\n",
       "angel           0.01189 4.81e-03 0.945\n",
       "other           0.25892 2.04e+00 0.154\n",
       "private.equity  0.40797 1.94e-08 1.000\n",
       "series.a       -0.10964 3.57e-01 0.550\n",
       "series.b       -0.12376 6.06e-01 0.436\n",
       "series.c.       0.20524 2.06e+00 0.151\n",
       "venture        -0.00811 2.12e-03 0.963\n",
       "GLOBAL               NA 4.93e+00 0.668"
      ]
     },
     "metadata": {},
     "output_type": "display_data"
    }
   ],
   "source": [
    "cox.zph(fit.bioBoth)"
   ]
  },
  {
   "cell_type": "markdown",
   "metadata": {},
   "source": [
    "The Cox model is never really statistically applicable in any case, and this might be because we are using time-dependant covariates (the fundings). The model could work if we could transform each variable to be understood as time-dependent by the model, but it requires knowledge that we don't have yet.\n",
    "\n",
    "At this point, the best way to model the surival of a startup could be with a linear regression, over the plots in <span style=\"color:red\">II.3.</span>, where we see the effect of time."
   ]
  },
  {
   "cell_type": "markdown",
   "metadata": {},
   "source": [
    "### <span style=\"color:red\">III.2. Linear models</span>"
   ]
  },
  {
   "cell_type": "markdown",
   "metadata": {},
   "source": [
    "We test the following assumption in the linear regression : \n",
    "\n",
    "    - H0: all betas are equal to 0 (no linearity)\n",
    "    - H1: there exists a linearity in the data points"
   ]
  },
  {
   "cell_type": "code",
   "execution_count": 289,
   "metadata": {},
   "outputs": [
    {
     "data": {
      "text/plain": [
       "\n",
       "Call:\n",
       "lm(formula = amount ~ time, data = df_to_plot1)\n",
       "\n",
       "Residuals:\n",
       "    Min      1Q  Median      3Q     Max \n",
       "-2.3266 -0.3934  0.1310  0.4481  2.5696 \n",
       "\n",
       "Coefficients:\n",
       "             Estimate Std. Error t value Pr(>|t|)    \n",
       "(Intercept) 5.366e+00  3.504e-02   153.1   <2e-16 ***\n",
       "time        5.073e-04  4.158e-05    12.2   <2e-16 ***\n",
       "---\n",
       "Signif. codes:  0 '***' 0.001 '**' 0.01 '*' 0.05 '.' 0.1 ' ' 1\n",
       "\n",
       "Residual standard error: 0.6648 on 654 degrees of freedom\n",
       "  (49 observations deleted due to missingness)\n",
       "Multiple R-squared:  0.1854,\tAdjusted R-squared:  0.1842 \n",
       "F-statistic: 148.9 on 1 and 654 DF,  p-value: < 2.2e-16\n"
      ]
     },
     "metadata": {},
     "output_type": "display_data"
    },
    {
     "name": "stdout",
     "output_type": "stream",
     "text": [
      "[1] \"-----------------------------------------------------------------------------------\"\n"
     ]
    },
    {
     "data": {
      "text/plain": [
       "\n",
       "Call:\n",
       "lm(formula = amount ~ time, data = df_to_plot2)\n",
       "\n",
       "Residuals:\n",
       "   Min     1Q Median     3Q    Max \n",
       "-2.164 -0.268 -0.002  0.258  2.447 \n",
       "\n",
       "Coefficients:\n",
       "             Estimate Std. Error t value Pr(>|t|)    \n",
       "(Intercept) 6.413e+00  2.660e-02 241.126  < 2e-16 ***\n",
       "time        2.242e-04  2.715e-05   8.258 8.22e-16 ***\n",
       "---\n",
       "Signif. codes:  0 '***' 0.001 '**' 0.01 '*' 0.05 '.' 0.1 ' ' 1\n",
       "\n",
       "Residual standard error: 0.4279 on 654 degrees of freedom\n",
       "  (11 observations deleted due to missingness)\n",
       "Multiple R-squared:  0.09442,\tAdjusted R-squared:  0.09304 \n",
       "F-statistic: 68.19 on 1 and 654 DF,  p-value: 8.217e-16\n"
      ]
     },
     "metadata": {},
     "output_type": "display_data"
    },
    {
     "name": "stdout",
     "output_type": "stream",
     "text": [
      "[1] \"-----------------------------------------------------------------------------------\"\n"
     ]
    },
    {
     "data": {
      "text/plain": [
       "\n",
       "Call:\n",
       "lm(formula = amount ~ time, data = df_to_plot3)\n",
       "\n",
       "Residuals:\n",
       "     Min       1Q   Median       3Q      Max \n",
       "-2.83561 -0.53026  0.03145  0.56152  2.05829 \n",
       "\n",
       "Coefficients:\n",
       "             Estimate Std. Error t value Pr(>|t|)    \n",
       "(Intercept) 5.803e+00  5.672e-02 102.299  < 2e-16 ***\n",
       "time        2.113e-04  3.127e-05   6.759 2.78e-11 ***\n",
       "---\n",
       "Signif. codes:  0 '***' 0.001 '**' 0.01 '*' 0.05 '.' 0.1 ' ' 1\n",
       "\n",
       "Residual standard error: 0.7929 on 755 degrees of freedom\n",
       "  (7 observations deleted due to missingness)\n",
       "Multiple R-squared:  0.05706,\tAdjusted R-squared:  0.05581 \n",
       "F-statistic: 45.68 on 1 and 755 DF,  p-value: 2.779e-11\n"
      ]
     },
     "metadata": {},
     "output_type": "display_data"
    },
    {
     "name": "stdout",
     "output_type": "stream",
     "text": [
      "[1] \"-----------------------------------------------------------------------------------\"\n"
     ]
    },
    {
     "data": {
      "text/plain": [
       "\n",
       "Call:\n",
       "lm(formula = amount ~ time, data = df_to_plot4)\n",
       "\n",
       "Residuals:\n",
       "     Min       1Q   Median       3Q      Max \n",
       "-1.98544 -0.37301  0.05725  0.39816  1.20184 \n",
       "\n",
       "Coefficients:\n",
       "             Estimate Std. Error t value Pr(>|t|)    \n",
       "(Intercept) 6.977e+00  4.432e-02 157.421   <2e-16 ***\n",
       "time        5.490e-06  2.719e-05   0.202     0.84    \n",
       "---\n",
       "Signif. codes:  0 '***' 0.001 '**' 0.01 '*' 0.05 '.' 0.1 ' ' 1\n",
       "\n",
       "Residual standard error: 0.5046 on 507 degrees of freedom\n",
       "  (5 observations deleted due to missingness)\n",
       "Multiple R-squared:  8.039e-05,\tAdjusted R-squared:  -0.001892 \n",
       "F-statistic: 0.04076 on 1 and 507 DF,  p-value: 0.8401\n"
      ]
     },
     "metadata": {},
     "output_type": "display_data"
    }
   ],
   "source": [
    "summary(lm(amount ~ time, data=df_to_plot1))  #web group2\n",
    "print(\"-----------------------------------------------------------------------------------\")\n",
    "summary(lm(amount ~ time, data=df_to_plot2))  #web group1\n",
    "print(\"-----------------------------------------------------------------------------------\")\n",
    "summary(lm(amount ~ time, data=df_to_plot3))  #biotech group2\n",
    "print(\"-----------------------------------------------------------------------------------\")\n",
    "summary(lm(amount ~ time, data=df_to_plot4))  #biotech group1"
   ]
  },
  {
   "cell_type": "markdown",
   "metadata": {},
   "source": [
    "Except for the group1 investments in biotech, the p-values in the other groups tell that they seem to follow a linear trend."
   ]
  },
  {
   "cell_type": "code",
   "execution_count": 290,
   "metadata": {
    "scrolled": false
   },
   "outputs": [
    {
     "data": {
      "image/png": "[encoded data removed]",
      "text/plain": [
       "Plot with title \"biotech group1\""
      ]
     },
     "metadata": {},
     "output_type": "display_data"
    }
   ],
   "source": [
    "par(mfrow=c(2,2))\n",
    "\n",
    "plot(lm(amount ~ time, data=df_to_plot1), which=2, main = \"web group2\")\n",
    "plot(lm(amount ~ time, data=df_to_plot2), which=2, main = \"web group1\")\n",
    "plot(lm(amount ~ time, data=df_to_plot3), which=2, main = \"biotech group2\")\n",
    "plot(lm(amount ~ time, data=df_to_plot4), which=2, main = \"biotech group1\")"
   ]
  },
  {
   "cell_type": "markdown",
   "metadata": {},
   "source": [
    "The QQ plots are not perfect, but the assumption of normality looks to be almost satisfied."
   ]
  },
  {
   "cell_type": "code",
   "execution_count": 291,
   "metadata": {},
   "outputs": [
    {
     "name": "stderr",
     "output_type": "stream",
     "text": [
      "Warning message:\n",
      "\"Removed 11 rows containing missing values (geom_point).\"Warning message:\n",
      "\"Removed 49 rows containing missing values (geom_point).\"Warning message:\n",
      "\"Removed 5 rows containing missing values (geom_point).\"Warning message:\n",
      "\"Removed 7 rows containing missing values (geom_point).\""
     ]
    },
    {
     "data": {
      "image/png": "[encoded data removed]",
      "text/plain": [
       "plot without title"
      ]
     },
     "metadata": {},
     "output_type": "display_data"
    }
   ],
   "source": [
    "plot1 = ggplot(data=df_to_plot1, aes(x=time, y=amount, group=type, col=type)) + geom_point(size=0.8) + geom_abline(intercept=5.366e+00, slope=5.073e-04) + labs(title='Web')\n",
    "plot2 = ggplot(data=df_to_plot2, aes(x=time, y=amount, group=type, col=type)) + geom_point(size=0.8) + geom_abline(intercept=6.413e+00, slope=2.242e-04) + labs(title='Web')\n",
    "plot3 = ggplot(data=df_to_plot3, aes(x=time, y=amount, group=type, col=type)) + geom_point(size=0.8) + geom_abline(intercept=5.803e+00, slope=2.113e-04) + labs(title='Biotech')\n",
    "plot4 = ggplot(data=df_to_plot4, aes(x=time, y=amount, group=type, col=type)) + geom_point(size=0.8) + labs(title='Biotech')\n",
    "\n",
    "grid.arrange(plot2, plot1, plot4, plot3,  nrow=2)"
   ]
  }
 ],
 "metadata": {
  "kernelspec": {
   "display_name": "R",
   "language": "R",
   "name": "ir"
  },
  "language_info": {
   "codemirror_mode": "r",
   "file_extension": ".r",
   "mimetype": "text/x-r-source",
   "name": "R",
   "pygments_lexer": "r",
   "version": "3.4.2"
  }
 },
 "nbformat": 4,
 "nbformat_minor": 2
}
